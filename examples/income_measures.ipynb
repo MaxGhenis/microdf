{
 "cells": [
  {
   "cell_type": "markdown",
   "metadata": {},
   "source": [
    "# Income measures\n",
    "\n",
    "## Setup"
   ]
  },
  {
   "cell_type": "code",
   "execution_count": 1,
   "metadata": {},
   "outputs": [],
   "source": [
    "import numpy as np\n",
    "import pandas as pd\n",
    "\n",
    "import taxcalc as tc\n",
    "import taxcalc_helpers as tch"
   ]
  },
  {
   "cell_type": "code",
   "execution_count": 2,
   "metadata": {},
   "outputs": [
    {
     "data": {
      "text/plain": [
       "'2.0.1'"
      ]
     },
     "execution_count": 2,
     "metadata": {},
     "output_type": "execute_result"
    }
   ],
   "source": [
    "tc.__version__"
   ]
  },
  {
   "cell_type": "code",
   "execution_count": 3,
   "metadata": {},
   "outputs": [],
   "source": [
    "# tch.__version__\n",
    "# AttributeError: module 'taxcalc_helpers' has no attribute '__version__'"
   ]
  },
  {
   "cell_type": "markdown",
   "metadata": {},
   "source": [
    "## Load data\n",
    "\n",
    "Start with a `DataFrame` with `expanded_income` and the variables in `expanded_income` excluded from `tpc_eci`."
   ]
  },
  {
   "cell_type": "code",
   "execution_count": 4,
   "metadata": {},
   "outputs": [],
   "source": [
    "df = tch.calc_df(group_vars=['expanded_income', 'wic_ben', 'housing_ben', \n",
    "                             'vet_ben', 'mcare_ben', 'mcaid_ben'],\n",
    "                metric_vars=['XTOT'])"
   ]
  },
  {
   "cell_type": "markdown",
   "metadata": {},
   "source": [
    "Calculate `tpc_eci`."
   ]
  },
  {
   "cell_type": "code",
   "execution_count": 5,
   "metadata": {},
   "outputs": [],
   "source": [
    "df['tpc_eci'] = tch.tpc_eci(df)"
   ]
  },
  {
   "cell_type": "code",
   "execution_count": 6,
   "metadata": {},
   "outputs": [
    {
     "data": {
      "text/html": [
       "<div>\n",
       "<style scoped>\n",
       "    .dataframe tbody tr th:only-of-type {\n",
       "        vertical-align: middle;\n",
       "    }\n",
       "\n",
       "    .dataframe tbody tr th {\n",
       "        vertical-align: top;\n",
       "    }\n",
       "\n",
       "    .dataframe thead th {\n",
       "        text-align: right;\n",
       "    }\n",
       "</style>\n",
       "<table border=\"1\" class=\"dataframe\">\n",
       "  <thead>\n",
       "    <tr style=\"text-align: right;\">\n",
       "      <th></th>\n",
       "      <th>mcare_ben</th>\n",
       "      <th>s006</th>\n",
       "      <th>housing_ben</th>\n",
       "      <th>expanded_income</th>\n",
       "      <th>wic_ben</th>\n",
       "      <th>XTOT</th>\n",
       "      <th>vet_ben</th>\n",
       "      <th>mcaid_ben</th>\n",
       "      <th>s006_m</th>\n",
       "      <th>XTOT_m</th>\n",
       "      <th>tpc_eci</th>\n",
       "    </tr>\n",
       "    <tr>\n",
       "      <th>RECID</th>\n",
       "      <th></th>\n",
       "      <th></th>\n",
       "      <th></th>\n",
       "      <th></th>\n",
       "      <th></th>\n",
       "      <th></th>\n",
       "      <th></th>\n",
       "      <th></th>\n",
       "      <th></th>\n",
       "      <th></th>\n",
       "      <th></th>\n",
       "    </tr>\n",
       "  </thead>\n",
       "  <tbody>\n",
       "    <tr>\n",
       "      <th>1</th>\n",
       "      <td>0.000000</td>\n",
       "      <td>250.14</td>\n",
       "      <td>0.00000</td>\n",
       "      <td>53636.919015</td>\n",
       "      <td>0.0</td>\n",
       "      <td>2.0</td>\n",
       "      <td>0.0</td>\n",
       "      <td>0.000000</td>\n",
       "      <td>0.000250</td>\n",
       "      <td>0.000500</td>\n",
       "      <td>53636.919015</td>\n",
       "    </tr>\n",
       "    <tr>\n",
       "      <th>2</th>\n",
       "      <td>0.000000</td>\n",
       "      <td>211.63</td>\n",
       "      <td>0.00000</td>\n",
       "      <td>18650.034959</td>\n",
       "      <td>0.0</td>\n",
       "      <td>3.0</td>\n",
       "      <td>0.0</td>\n",
       "      <td>0.000000</td>\n",
       "      <td>0.000212</td>\n",
       "      <td>0.000635</td>\n",
       "      <td>18650.034959</td>\n",
       "    </tr>\n",
       "    <tr>\n",
       "      <th>3</th>\n",
       "      <td>13640.390612</td>\n",
       "      <td>323.50</td>\n",
       "      <td>5664.74794</td>\n",
       "      <td>52516.165397</td>\n",
       "      <td>0.0</td>\n",
       "      <td>1.0</td>\n",
       "      <td>0.0</td>\n",
       "      <td>8211.593627</td>\n",
       "      <td>0.000324</td>\n",
       "      <td>0.000324</td>\n",
       "      <td>24999.433219</td>\n",
       "    </tr>\n",
       "    <tr>\n",
       "      <th>4</th>\n",
       "      <td>0.000000</td>\n",
       "      <td>186.32</td>\n",
       "      <td>0.00000</td>\n",
       "      <td>37764.286717</td>\n",
       "      <td>0.0</td>\n",
       "      <td>2.0</td>\n",
       "      <td>0.0</td>\n",
       "      <td>8211.593627</td>\n",
       "      <td>0.000186</td>\n",
       "      <td>0.000373</td>\n",
       "      <td>29552.693091</td>\n",
       "    </tr>\n",
       "    <tr>\n",
       "      <th>5</th>\n",
       "      <td>27280.781223</td>\n",
       "      <td>343.08</td>\n",
       "      <td>0.00000</td>\n",
       "      <td>63941.158283</td>\n",
       "      <td>0.0</td>\n",
       "      <td>2.0</td>\n",
       "      <td>0.0</td>\n",
       "      <td>0.000000</td>\n",
       "      <td>0.000343</td>\n",
       "      <td>0.000686</td>\n",
       "      <td>36660.377060</td>\n",
       "    </tr>\n",
       "  </tbody>\n",
       "</table>\n",
       "</div>"
      ],
      "text/plain": [
       "          mcare_ben    s006  housing_ben  expanded_income  wic_ben  XTOT  \\\n",
       "RECID                                                                      \n",
       "1          0.000000  250.14      0.00000     53636.919015      0.0   2.0   \n",
       "2          0.000000  211.63      0.00000     18650.034959      0.0   3.0   \n",
       "3      13640.390612  323.50   5664.74794     52516.165397      0.0   1.0   \n",
       "4          0.000000  186.32      0.00000     37764.286717      0.0   2.0   \n",
       "5      27280.781223  343.08      0.00000     63941.158283      0.0   2.0   \n",
       "\n",
       "       vet_ben    mcaid_ben    s006_m    XTOT_m       tpc_eci  \n",
       "RECID                                                          \n",
       "1          0.0     0.000000  0.000250  0.000500  53636.919015  \n",
       "2          0.0     0.000000  0.000212  0.000635  18650.034959  \n",
       "3          0.0  8211.593627  0.000324  0.000324  24999.433219  \n",
       "4          0.0  8211.593627  0.000186  0.000373  29552.693091  \n",
       "5          0.0     0.000000  0.000343  0.000686  36660.377060  "
      ]
     },
     "execution_count": 6,
     "metadata": {},
     "output_type": "execute_result"
    }
   ],
   "source": [
    "df.head()"
   ]
  }
 ],
 "metadata": {
  "kernelspec": {
   "display_name": "Python 3",
   "language": "python",
   "name": "python3"
  },
  "language_info": {
   "codemirror_mode": {
    "name": "ipython",
    "version": 3
   },
   "file_extension": ".py",
   "mimetype": "text/x-python",
   "name": "python",
   "nbconvert_exporter": "python",
   "pygments_lexer": "ipython3",
   "version": "3.6.6"
  }
 },
 "nbformat": 4,
 "nbformat_minor": 2
}
