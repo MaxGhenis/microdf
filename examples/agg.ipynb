{
 "cells": [
  {
   "cell_type": "markdown",
   "metadata": {},
   "source": [
    "# The `agg` function\n",
    "\n",
    "Use `agg` to see the effect of a $10,000 UBI by marital status.\n",
    "\n",
    "## Setup"
   ]
  },
  {
   "cell_type": "code",
   "execution_count": 1,
   "metadata": {},
   "outputs": [],
   "source": [
    "import numpy as np\n",
    "import pandas as pd\n",
    "\n",
    "import taxcalc as tc\n",
    "import taxcalc_helpers as tch"
   ]
  },
  {
   "cell_type": "code",
   "execution_count": 2,
   "metadata": {},
   "outputs": [
    {
     "data": {
      "text/plain": [
       "'2.2.0'"
      ]
     },
     "execution_count": 2,
     "metadata": {},
     "output_type": "execute_result"
    }
   ],
   "source": [
    "tc.__version__"
   ]
  },
  {
   "cell_type": "markdown",
   "metadata": {},
   "source": [
    "## Load data\n",
    "\n",
    "Start with a standard `DataFrame`, then add a UBI manually in a reform copy."
   ]
  },
  {
   "cell_type": "markdown",
   "metadata": {},
   "source": [
    "**TODO: `calc_df` breaks when `metric_vars` is not provided.**"
   ]
  },
  {
   "cell_type": "code",
   "execution_count": 3,
   "metadata": {},
   "outputs": [],
   "source": [
    "base = tch.calc_df(group_vars=['expanded_income', 'aftertax_income', 'MARS'],\n",
    "                   metric_vars=['XTOT'])\n",
    "tch.add_weighted_metrics(base, 'aftertax_income')"
   ]
  },
  {
   "cell_type": "code",
   "execution_count": 4,
   "metadata": {},
   "outputs": [],
   "source": [
    "reform = base.copy(deep=True)\n",
    "UBI_PP = 10000\n",
    "reform['ubi'] = reform.XTOT * UBI_PP\n",
    "reform['aftertax_income'] = reform.aftertax_income + reform.ubi\n",
    "tch.add_weighted_metrics(reform, 'aftertax_income')"
   ]
  },
  {
   "cell_type": "code",
   "execution_count": 5,
   "metadata": {},
   "outputs": [
    {
     "data": {
      "text/plain": [
       "Index(['housing_ben', 'expanded_income', 'mcare_ben', 'ssi_ben', 'e02400',\n",
       "       'e02300', 'mcaid_ben', 'vet_ben', 'aftertax_income', 'tanf_ben', 'MARS',\n",
       "       'XTOT', 'wic_ben', 'other_ben', 's006', 'snap_ben', 'market_income',\n",
       "       'bens', 'tax', 's006_m', 'XTOT_m', 'aftertax_income_m', 'ubi'],\n",
       "      dtype='object')"
      ]
     },
     "execution_count": 5,
     "metadata": {},
     "output_type": "execute_result"
    }
   ],
   "source": [
    "reform.columns"
   ]
  },
  {
   "cell_type": "markdown",
   "metadata": {},
   "source": [
    "## `agg`\n",
    "\n",
    "### Change in aftertax income by marital status."
   ]
  },
  {
   "cell_type": "code",
   "execution_count": 6,
   "metadata": {},
   "outputs": [
    {
     "data": {
      "text/html": [
       "<div>\n",
       "<style scoped>\n",
       "    .dataframe tbody tr th:only-of-type {\n",
       "        vertical-align: middle;\n",
       "    }\n",
       "\n",
       "    .dataframe tbody tr th {\n",
       "        vertical-align: top;\n",
       "    }\n",
       "\n",
       "    .dataframe thead th {\n",
       "        text-align: right;\n",
       "    }\n",
       "</style>\n",
       "<table border=\"1\" class=\"dataframe\">\n",
       "  <thead>\n",
       "    <tr style=\"text-align: right;\">\n",
       "      <th></th>\n",
       "      <th>aftertax_income_m_base</th>\n",
       "      <th>aftertax_income_m_reform</th>\n",
       "      <th>aftertax_income_pctchg</th>\n",
       "    </tr>\n",
       "    <tr>\n",
       "      <th>MARS</th>\n",
       "      <th></th>\n",
       "      <th></th>\n",
       "      <th></th>\n",
       "    </tr>\n",
       "  </thead>\n",
       "  <tbody>\n",
       "    <tr>\n",
       "      <th>1.0</th>\n",
       "      <td>3.916351e+06</td>\n",
       "      <td>4.939093e+06</td>\n",
       "      <td>0.261147</td>\n",
       "    </tr>\n",
       "    <tr>\n",
       "      <th>2.0</th>\n",
       "      <td>7.692072e+06</td>\n",
       "      <td>9.577865e+06</td>\n",
       "      <td>0.245161</td>\n",
       "    </tr>\n",
       "    <tr>\n",
       "      <th>4.0</th>\n",
       "      <td>8.531427e+05</td>\n",
       "      <td>1.275820e+06</td>\n",
       "      <td>0.495436</td>\n",
       "    </tr>\n",
       "  </tbody>\n",
       "</table>\n",
       "</div>"
      ],
      "text/plain": [
       "      aftertax_income_m_base  aftertax_income_m_reform  aftertax_income_pctchg\n",
       "MARS                                                                          \n",
       "1.0             3.916351e+06              4.939093e+06                0.261147\n",
       "2.0             7.692072e+06              9.577865e+06                0.245161\n",
       "4.0             8.531427e+05              1.275820e+06                0.495436"
      ]
     },
     "execution_count": 6,
     "metadata": {},
     "output_type": "execute_result"
    }
   ],
   "source": [
    "tch.agg(base, reform, 'MARS', ['aftertax_income'])"
   ]
  },
  {
   "cell_type": "markdown",
   "metadata": {},
   "source": [
    "### Also sum baseline `expanded_income`"
   ]
  },
  {
   "cell_type": "code",
   "execution_count": 7,
   "metadata": {},
   "outputs": [
    {
     "data": {
      "text/html": [
       "<div>\n",
       "<style scoped>\n",
       "    .dataframe tbody tr th:only-of-type {\n",
       "        vertical-align: middle;\n",
       "    }\n",
       "\n",
       "    .dataframe tbody tr th {\n",
       "        vertical-align: top;\n",
       "    }\n",
       "\n",
       "    .dataframe thead th {\n",
       "        text-align: right;\n",
       "    }\n",
       "</style>\n",
       "<table border=\"1\" class=\"dataframe\">\n",
       "  <thead>\n",
       "    <tr style=\"text-align: right;\">\n",
       "      <th></th>\n",
       "      <th>expanded_income</th>\n",
       "      <th>aftertax_income_m_base</th>\n",
       "      <th>aftertax_income_m_reform</th>\n",
       "      <th>aftertax_income_pctchg</th>\n",
       "    </tr>\n",
       "    <tr>\n",
       "      <th>MARS</th>\n",
       "      <th></th>\n",
       "      <th></th>\n",
       "      <th></th>\n",
       "      <th></th>\n",
       "    </tr>\n",
       "  </thead>\n",
       "  <tbody>\n",
       "    <tr>\n",
       "      <th>1.0</th>\n",
       "      <td>1.593936e+10</td>\n",
       "      <td>3.916351e+06</td>\n",
       "      <td>4.939093e+06</td>\n",
       "      <td>0.261147</td>\n",
       "    </tr>\n",
       "    <tr>\n",
       "      <th>2.0</th>\n",
       "      <td>6.242669e+10</td>\n",
       "      <td>7.692072e+06</td>\n",
       "      <td>9.577865e+06</td>\n",
       "      <td>0.245161</td>\n",
       "    </tr>\n",
       "    <tr>\n",
       "      <th>4.0</th>\n",
       "      <td>2.210208e+09</td>\n",
       "      <td>8.531427e+05</td>\n",
       "      <td>1.275820e+06</td>\n",
       "      <td>0.495436</td>\n",
       "    </tr>\n",
       "  </tbody>\n",
       "</table>\n",
       "</div>"
      ],
      "text/plain": [
       "      expanded_income  aftertax_income_m_base  aftertax_income_m_reform  \\\n",
       "MARS                                                                      \n",
       "1.0      1.593936e+10            3.916351e+06              4.939093e+06   \n",
       "2.0      6.242669e+10            7.692072e+06              9.577865e+06   \n",
       "4.0      2.210208e+09            8.531427e+05              1.275820e+06   \n",
       "\n",
       "      aftertax_income_pctchg  \n",
       "MARS                          \n",
       "1.0                 0.261147  \n",
       "2.0                 0.245161  \n",
       "4.0                 0.495436  "
      ]
     },
     "execution_count": 7,
     "metadata": {},
     "output_type": "execute_result"
    }
   ],
   "source": [
    "tch.agg(base, reform, 'MARS', ['aftertax_income'], 'expanded_income')"
   ]
  },
  {
   "cell_type": "markdown",
   "metadata": {},
   "source": [
    "### Also sum UBI amount"
   ]
  },
  {
   "cell_type": "code",
   "execution_count": 8,
   "metadata": {},
   "outputs": [
    {
     "data": {
      "text/html": [
       "<div>\n",
       "<style scoped>\n",
       "    .dataframe tbody tr th:only-of-type {\n",
       "        vertical-align: middle;\n",
       "    }\n",
       "\n",
       "    .dataframe tbody tr th {\n",
       "        vertical-align: top;\n",
       "    }\n",
       "\n",
       "    .dataframe thead th {\n",
       "        text-align: right;\n",
       "    }\n",
       "</style>\n",
       "<table border=\"1\" class=\"dataframe\">\n",
       "  <thead>\n",
       "    <tr style=\"text-align: right;\">\n",
       "      <th></th>\n",
       "      <th>aftertax_income_m_base</th>\n",
       "      <th>ubi_m</th>\n",
       "      <th>aftertax_income_m_reform</th>\n",
       "      <th>aftertax_income_pctchg</th>\n",
       "    </tr>\n",
       "    <tr>\n",
       "      <th>MARS</th>\n",
       "      <th></th>\n",
       "      <th></th>\n",
       "      <th></th>\n",
       "      <th></th>\n",
       "    </tr>\n",
       "  </thead>\n",
       "  <tbody>\n",
       "    <tr>\n",
       "      <th>1.0</th>\n",
       "      <td>3.916351e+06</td>\n",
       "      <td>1.022742e+06</td>\n",
       "      <td>4.939093e+06</td>\n",
       "      <td>0.261147</td>\n",
       "    </tr>\n",
       "    <tr>\n",
       "      <th>2.0</th>\n",
       "      <td>7.692072e+06</td>\n",
       "      <td>1.885793e+06</td>\n",
       "      <td>9.577865e+06</td>\n",
       "      <td>0.245161</td>\n",
       "    </tr>\n",
       "    <tr>\n",
       "      <th>4.0</th>\n",
       "      <td>8.531427e+05</td>\n",
       "      <td>4.226775e+05</td>\n",
       "      <td>1.275820e+06</td>\n",
       "      <td>0.495436</td>\n",
       "    </tr>\n",
       "  </tbody>\n",
       "</table>\n",
       "</div>"
      ],
      "text/plain": [
       "      aftertax_income_m_base         ubi_m  aftertax_income_m_reform  \\\n",
       "MARS                                                                   \n",
       "1.0             3.916351e+06  1.022742e+06              4.939093e+06   \n",
       "2.0             7.692072e+06  1.885793e+06              9.577865e+06   \n",
       "4.0             8.531427e+05  4.226775e+05              1.275820e+06   \n",
       "\n",
       "      aftertax_income_pctchg  \n",
       "MARS                          \n",
       "1.0                 0.261147  \n",
       "2.0                 0.245161  \n",
       "4.0                 0.495436  "
      ]
     },
     "execution_count": 8,
     "metadata": {},
     "output_type": "execute_result"
    }
   ],
   "source": [
    "tch.add_weighted_metrics(reform, 'ubi')  # Creates ubi_m = ubi * s006 / 1e6.\n",
    "\n",
    "tch.agg(base, reform, 'MARS', ['aftertax_income'],\n",
    "        reform_metrics='ubi_m')"
   ]
  }
 ],
 "metadata": {
  "kernelspec": {
   "display_name": "Python 3",
   "language": "python",
   "name": "python3"
  },
  "language_info": {
   "codemirror_mode": {
    "name": "ipython",
    "version": 3
   },
   "file_extension": ".py",
   "mimetype": "text/x-python",
   "name": "python",
   "nbconvert_exporter": "python",
   "pygments_lexer": "ipython3",
   "version": "3.7.3"
  },
  "toc": {
   "base_numbering": 1,
   "nav_menu": {},
   "number_sections": true,
   "sideBar": true,
   "skip_h1_title": false,
   "title_cell": "Table of Contents",
   "title_sidebar": "Contents",
   "toc_cell": false,
   "toc_position": {},
   "toc_section_display": true,
   "toc_window_display": false
  }
 },
 "nbformat": 4,
 "nbformat_minor": 2
}
