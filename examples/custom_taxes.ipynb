{
 "cells": [
  {
   "cell_type": "markdown",
   "metadata": {},
   "source": [
    "# Custom taxes\n",
    "\n",
    "## Setup"
   ]
  },
  {
   "cell_type": "code",
   "execution_count": 1,
   "metadata": {},
   "outputs": [],
   "source": [
    "import numpy as np\n",
    "import pandas as pd\n",
    "\n",
    "import taxcalc as tc\n",
    "import taxcalc_helpers as tch"
   ]
  },
  {
   "cell_type": "code",
   "execution_count": 2,
   "metadata": {},
   "outputs": [
    {
     "data": {
      "text/plain": [
       "'2.0.1'"
      ]
     },
     "execution_count": 2,
     "metadata": {},
     "output_type": "execute_result"
    }
   ],
   "source": [
    "tc.__version__"
   ]
  },
  {
   "cell_type": "code",
   "execution_count": 3,
   "metadata": {},
   "outputs": [],
   "source": [
    "# tch.__version__\n",
    "# AttributeError: module 'taxcalc_helpers' has no attribute '__version__'"
   ]
  },
  {
   "cell_type": "markdown",
   "metadata": {},
   "source": [
    "## Load data\n",
    "\n",
    "Start with a `DataFrame` with `aftertax_income` and necessary ingredients of `tpc_eci`. "
   ]
  },
  {
   "cell_type": "code",
   "execution_count": 4,
   "metadata": {},
   "outputs": [
    {
     "data": {
      "text/plain": [
       "Index(['aftertax_income', 'housing_ben', 'expanded_income', 'mcare_ben',\n",
       "       'mcaid_ben', 'vet_ben', 'XTOT', 's006', 'wic_ben', 's006_m', 'XTOT_m'],\n",
       "      dtype='object')"
      ]
     },
     "execution_count": 4,
     "metadata": {},
     "output_type": "execute_result"
    }
   ],
   "source": [
    "df = tch.calc_df(group_vars=['expanded_income', 'aftertax_income'] + tch.ECI_REMOVE_COLS,\n",
    "                 metric_vars=['XTOT'])\n",
    "df.columns"
   ]
  },
  {
   "cell_type": "markdown",
   "metadata": {},
   "source": [
    "Calculate Tax Policy Center's Expanded Cash Income measure, used for the analysis."
   ]
  },
  {
   "cell_type": "code",
   "execution_count": 5,
   "metadata": {},
   "outputs": [],
   "source": [
    "df['tpc_eci'] = tch.tpc_eci(df)"
   ]
  },
  {
   "cell_type": "markdown",
   "metadata": {},
   "source": [
    "Incidence of a VAT per Tax Policy Center."
   ]
  },
  {
   "cell_type": "code",
   "execution_count": 6,
   "metadata": {},
   "outputs": [
    {
     "data": {
      "text/plain": [
       "Index(['aftertax_income', 'housing_ben', 'expanded_income', 'mcare_ben',\n",
       "       'mcaid_ben', 'vet_ben', 'XTOT', 's006', 'wic_ben', 's006_m', 'XTOT_m',\n",
       "       'tpc_eci', 'vat'],\n",
       "      dtype='object')"
      ]
     },
     "execution_count": 6,
     "metadata": {},
     "output_type": "execute_result"
    }
   ],
   "source": [
    "tch.add_vat(df)\n",
    "df.columns"
   ]
  },
  {
   "cell_type": "code",
   "execution_count": 7,
   "metadata": {},
   "outputs": [
    {
     "data": {
      "text/html": [
       "<div>\n",
       "<style scoped>\n",
       "    .dataframe tbody tr th:only-of-type {\n",
       "        vertical-align: middle;\n",
       "    }\n",
       "\n",
       "    .dataframe tbody tr th {\n",
       "        vertical-align: top;\n",
       "    }\n",
       "\n",
       "    .dataframe thead th {\n",
       "        text-align: right;\n",
       "    }\n",
       "</style>\n",
       "<table border=\"1\" class=\"dataframe\">\n",
       "  <thead>\n",
       "    <tr style=\"text-align: right;\">\n",
       "      <th></th>\n",
       "      <th>aftertax_income</th>\n",
       "      <th>housing_ben</th>\n",
       "      <th>expanded_income</th>\n",
       "      <th>mcare_ben</th>\n",
       "      <th>mcaid_ben</th>\n",
       "      <th>vet_ben</th>\n",
       "      <th>XTOT</th>\n",
       "      <th>s006</th>\n",
       "      <th>wic_ben</th>\n",
       "      <th>s006_m</th>\n",
       "      <th>XTOT_m</th>\n",
       "      <th>tpc_eci</th>\n",
       "      <th>vat</th>\n",
       "    </tr>\n",
       "    <tr>\n",
       "      <th>RECID</th>\n",
       "      <th></th>\n",
       "      <th></th>\n",
       "      <th></th>\n",
       "      <th></th>\n",
       "      <th></th>\n",
       "      <th></th>\n",
       "      <th></th>\n",
       "      <th></th>\n",
       "      <th></th>\n",
       "      <th></th>\n",
       "      <th></th>\n",
       "      <th></th>\n",
       "      <th></th>\n",
       "    </tr>\n",
       "  </thead>\n",
       "  <tbody>\n",
       "    <tr>\n",
       "      <th>37356</th>\n",
       "      <td>-3.476245e+06</td>\n",
       "      <td>0.0</td>\n",
       "      <td>-3.367968e+06</td>\n",
       "      <td>0.0</td>\n",
       "      <td>0.000000</td>\n",
       "      <td>0.0</td>\n",
       "      <td>2.0</td>\n",
       "      <td>63.19</td>\n",
       "      <td>0.0</td>\n",
       "      <td>0.000063</td>\n",
       "      <td>0.000126</td>\n",
       "      <td>-3.367968e+06</td>\n",
       "      <td>0.0</td>\n",
       "    </tr>\n",
       "    <tr>\n",
       "      <th>394743</th>\n",
       "      <td>-9.954864e+05</td>\n",
       "      <td>0.0</td>\n",
       "      <td>-9.951682e+05</td>\n",
       "      <td>0.0</td>\n",
       "      <td>0.000000</td>\n",
       "      <td>0.0</td>\n",
       "      <td>3.0</td>\n",
       "      <td>260.72</td>\n",
       "      <td>0.0</td>\n",
       "      <td>0.000261</td>\n",
       "      <td>0.000782</td>\n",
       "      <td>-9.951682e+05</td>\n",
       "      <td>0.0</td>\n",
       "    </tr>\n",
       "    <tr>\n",
       "      <th>29540</th>\n",
       "      <td>-8.574336e+05</td>\n",
       "      <td>0.0</td>\n",
       "      <td>-8.574336e+05</td>\n",
       "      <td>0.0</td>\n",
       "      <td>0.000000</td>\n",
       "      <td>0.0</td>\n",
       "      <td>2.0</td>\n",
       "      <td>631.86</td>\n",
       "      <td>0.0</td>\n",
       "      <td>0.000632</td>\n",
       "      <td>0.001264</td>\n",
       "      <td>-8.574336e+05</td>\n",
       "      <td>0.0</td>\n",
       "    </tr>\n",
       "    <tr>\n",
       "      <th>306674</th>\n",
       "      <td>-8.264863e+05</td>\n",
       "      <td>0.0</td>\n",
       "      <td>-8.241131e+05</td>\n",
       "      <td>0.0</td>\n",
       "      <td>16423.187253</td>\n",
       "      <td>0.0</td>\n",
       "      <td>2.0</td>\n",
       "      <td>208.58</td>\n",
       "      <td>0.0</td>\n",
       "      <td>0.000209</td>\n",
       "      <td>0.000417</td>\n",
       "      <td>-8.405363e+05</td>\n",
       "      <td>0.0</td>\n",
       "    </tr>\n",
       "    <tr>\n",
       "      <th>276824</th>\n",
       "      <td>-8.325896e+05</td>\n",
       "      <td>0.0</td>\n",
       "      <td>-8.325896e+05</td>\n",
       "      <td>0.0</td>\n",
       "      <td>0.000000</td>\n",
       "      <td>0.0</td>\n",
       "      <td>2.0</td>\n",
       "      <td>249.00</td>\n",
       "      <td>0.0</td>\n",
       "      <td>0.000249</td>\n",
       "      <td>0.000498</td>\n",
       "      <td>-8.325896e+05</td>\n",
       "      <td>0.0</td>\n",
       "    </tr>\n",
       "  </tbody>\n",
       "</table>\n",
       "</div>"
      ],
      "text/plain": [
       "        aftertax_income  housing_ben  expanded_income  mcare_ben  \\\n",
       "RECID                                                              \n",
       "37356     -3.476245e+06          0.0    -3.367968e+06        0.0   \n",
       "394743    -9.954864e+05          0.0    -9.951682e+05        0.0   \n",
       "29540     -8.574336e+05          0.0    -8.574336e+05        0.0   \n",
       "306674    -8.264863e+05          0.0    -8.241131e+05        0.0   \n",
       "276824    -8.325896e+05          0.0    -8.325896e+05        0.0   \n",
       "\n",
       "           mcaid_ben  vet_ben  XTOT    s006  wic_ben    s006_m    XTOT_m  \\\n",
       "RECID                                                                      \n",
       "37356       0.000000      0.0   2.0   63.19      0.0  0.000063  0.000126   \n",
       "394743      0.000000      0.0   3.0  260.72      0.0  0.000261  0.000782   \n",
       "29540       0.000000      0.0   2.0  631.86      0.0  0.000632  0.001264   \n",
       "306674  16423.187253      0.0   2.0  208.58      0.0  0.000209  0.000417   \n",
       "276824      0.000000      0.0   2.0  249.00      0.0  0.000249  0.000498   \n",
       "\n",
       "             tpc_eci  vat  \n",
       "RECID                      \n",
       "37356  -3.367968e+06  0.0  \n",
       "394743 -9.951682e+05  0.0  \n",
       "29540  -8.574336e+05  0.0  \n",
       "306674 -8.405363e+05  0.0  \n",
       "276824 -8.325896e+05  0.0  "
      ]
     },
     "execution_count": 7,
     "metadata": {},
     "output_type": "execute_result"
    }
   ],
   "source": [
    "df.head()  # Note these are zero because we block negative tax liability."
   ]
  },
  {
   "cell_type": "code",
   "execution_count": 8,
   "metadata": {},
   "outputs": [
    {
     "data": {
      "text/html": [
       "<div>\n",
       "<style scoped>\n",
       "    .dataframe tbody tr th:only-of-type {\n",
       "        vertical-align: middle;\n",
       "    }\n",
       "\n",
       "    .dataframe tbody tr th {\n",
       "        vertical-align: top;\n",
       "    }\n",
       "\n",
       "    .dataframe thead th {\n",
       "        text-align: right;\n",
       "    }\n",
       "</style>\n",
       "<table border=\"1\" class=\"dataframe\">\n",
       "  <thead>\n",
       "    <tr style=\"text-align: right;\">\n",
       "      <th></th>\n",
       "      <th>aftertax_income</th>\n",
       "      <th>housing_ben</th>\n",
       "      <th>expanded_income</th>\n",
       "      <th>mcare_ben</th>\n",
       "      <th>mcaid_ben</th>\n",
       "      <th>vet_ben</th>\n",
       "      <th>XTOT</th>\n",
       "      <th>s006</th>\n",
       "      <th>wic_ben</th>\n",
       "      <th>s006_m</th>\n",
       "      <th>XTOT_m</th>\n",
       "      <th>tpc_eci</th>\n",
       "      <th>vat</th>\n",
       "    </tr>\n",
       "    <tr>\n",
       "      <th>RECID</th>\n",
       "      <th></th>\n",
       "      <th></th>\n",
       "      <th></th>\n",
       "      <th></th>\n",
       "      <th></th>\n",
       "      <th></th>\n",
       "      <th></th>\n",
       "      <th></th>\n",
       "      <th></th>\n",
       "      <th></th>\n",
       "      <th></th>\n",
       "      <th></th>\n",
       "      <th></th>\n",
       "    </tr>\n",
       "  </thead>\n",
       "  <tbody>\n",
       "    <tr>\n",
       "      <th>69063</th>\n",
       "      <td>25493.488411</td>\n",
       "      <td>0.0</td>\n",
       "      <td>30543.264372</td>\n",
       "      <td>0.000000</td>\n",
       "      <td>0.0</td>\n",
       "      <td>0.000000</td>\n",
       "      <td>1.0</td>\n",
       "      <td>90.20</td>\n",
       "      <td>0.0</td>\n",
       "      <td>0.000090</td>\n",
       "      <td>0.000090</td>\n",
       "      <td>30543.264372</td>\n",
       "      <td>917.765583</td>\n",
       "    </tr>\n",
       "    <tr>\n",
       "      <th>399322</th>\n",
       "      <td>36533.415314</td>\n",
       "      <td>0.0</td>\n",
       "      <td>42988.132189</td>\n",
       "      <td>0.000000</td>\n",
       "      <td>0.0</td>\n",
       "      <td>0.000000</td>\n",
       "      <td>3.0</td>\n",
       "      <td>369.24</td>\n",
       "      <td>0.0</td>\n",
       "      <td>0.000369</td>\n",
       "      <td>0.001108</td>\n",
       "      <td>42988.132189</td>\n",
       "      <td>1315.202951</td>\n",
       "    </tr>\n",
       "    <tr>\n",
       "      <th>175671</th>\n",
       "      <td>137690.338371</td>\n",
       "      <td>0.0</td>\n",
       "      <td>145083.232057</td>\n",
       "      <td>27280.781223</td>\n",
       "      <td>0.0</td>\n",
       "      <td>16994.804121</td>\n",
       "      <td>2.0</td>\n",
       "      <td>13.60</td>\n",
       "      <td>0.0</td>\n",
       "      <td>0.000014</td>\n",
       "      <td>0.000027</td>\n",
       "      <td>100807.646713</td>\n",
       "      <td>4956.852181</td>\n",
       "    </tr>\n",
       "    <tr>\n",
       "      <th>243797</th>\n",
       "      <td>28877.246343</td>\n",
       "      <td>0.0</td>\n",
       "      <td>28877.246343</td>\n",
       "      <td>13640.390612</td>\n",
       "      <td>0.0</td>\n",
       "      <td>0.000000</td>\n",
       "      <td>2.0</td>\n",
       "      <td>743.21</td>\n",
       "      <td>0.0</td>\n",
       "      <td>0.000743</td>\n",
       "      <td>0.001486</td>\n",
       "      <td>15236.855731</td>\n",
       "      <td>1126.212607</td>\n",
       "    </tr>\n",
       "    <tr>\n",
       "      <th>58985</th>\n",
       "      <td>73454.948750</td>\n",
       "      <td>0.0</td>\n",
       "      <td>80025.315456</td>\n",
       "      <td>13640.390612</td>\n",
       "      <td>0.0</td>\n",
       "      <td>0.000000</td>\n",
       "      <td>1.0</td>\n",
       "      <td>88.05</td>\n",
       "      <td>0.0</td>\n",
       "      <td>0.000088</td>\n",
       "      <td>0.000088</td>\n",
       "      <td>66384.924845</td>\n",
       "      <td>2644.378155</td>\n",
       "    </tr>\n",
       "  </tbody>\n",
       "</table>\n",
       "</div>"
      ],
      "text/plain": [
       "        aftertax_income  housing_ben  expanded_income     mcare_ben  \\\n",
       "RECID                                                                 \n",
       "69063      25493.488411          0.0     30543.264372      0.000000   \n",
       "399322     36533.415314          0.0     42988.132189      0.000000   \n",
       "175671    137690.338371          0.0    145083.232057  27280.781223   \n",
       "243797     28877.246343          0.0     28877.246343  13640.390612   \n",
       "58985      73454.948750          0.0     80025.315456  13640.390612   \n",
       "\n",
       "        mcaid_ben       vet_ben  XTOT    s006  wic_ben    s006_m    XTOT_m  \\\n",
       "RECID                                                                        \n",
       "69063         0.0      0.000000   1.0   90.20      0.0  0.000090  0.000090   \n",
       "399322        0.0      0.000000   3.0  369.24      0.0  0.000369  0.001108   \n",
       "175671        0.0  16994.804121   2.0   13.60      0.0  0.000014  0.000027   \n",
       "243797        0.0      0.000000   2.0  743.21      0.0  0.000743  0.001486   \n",
       "58985         0.0      0.000000   1.0   88.05      0.0  0.000088  0.000088   \n",
       "\n",
       "              tpc_eci          vat  \n",
       "RECID                               \n",
       "69063    30543.264372   917.765583  \n",
       "399322   42988.132189  1315.202951  \n",
       "175671  100807.646713  4956.852181  \n",
       "243797   15236.855731  1126.212607  \n",
       "58985    66384.924845  2644.378155  "
      ]
     },
     "execution_count": 8,
     "metadata": {},
     "output_type": "execute_result"
    }
   ],
   "source": [
    "df.sample(5)"
   ]
  },
  {
   "cell_type": "markdown",
   "metadata": {},
   "source": [
    "Add carbon tax and financial transaction tax."
   ]
  },
  {
   "cell_type": "code",
   "execution_count": 9,
   "metadata": {},
   "outputs": [
    {
     "data": {
      "text/plain": [
       "Index(['aftertax_income', 'housing_ben', 'expanded_income', 'mcare_ben',\n",
       "       'mcaid_ben', 'vet_ben', 'XTOT', 's006', 'wic_ben', 's006_m', 'XTOT_m',\n",
       "       'tpc_eci', 'vat', 'carbon_tax', 'ftt'],\n",
       "      dtype='object')"
      ]
     },
     "execution_count": 9,
     "metadata": {},
     "output_type": "execute_result"
    }
   ],
   "source": [
    "tch.add_carbon_tax(df)\n",
    "tch.add_ftt(df)\n",
    "df.columns"
   ]
  },
  {
   "cell_type": "code",
   "execution_count": 10,
   "metadata": {},
   "outputs": [
    {
     "data": {
      "text/html": [
       "<div>\n",
       "<style scoped>\n",
       "    .dataframe tbody tr th:only-of-type {\n",
       "        vertical-align: middle;\n",
       "    }\n",
       "\n",
       "    .dataframe tbody tr th {\n",
       "        vertical-align: top;\n",
       "    }\n",
       "\n",
       "    .dataframe thead th {\n",
       "        text-align: right;\n",
       "    }\n",
       "</style>\n",
       "<table border=\"1\" class=\"dataframe\">\n",
       "  <thead>\n",
       "    <tr style=\"text-align: right;\">\n",
       "      <th></th>\n",
       "      <th>aftertax_income</th>\n",
       "      <th>housing_ben</th>\n",
       "      <th>expanded_income</th>\n",
       "      <th>mcare_ben</th>\n",
       "      <th>mcaid_ben</th>\n",
       "      <th>vet_ben</th>\n",
       "      <th>XTOT</th>\n",
       "      <th>s006</th>\n",
       "      <th>wic_ben</th>\n",
       "      <th>s006_m</th>\n",
       "      <th>XTOT_m</th>\n",
       "      <th>tpc_eci</th>\n",
       "      <th>vat</th>\n",
       "      <th>carbon_tax</th>\n",
       "      <th>ftt</th>\n",
       "    </tr>\n",
       "    <tr>\n",
       "      <th>RECID</th>\n",
       "      <th></th>\n",
       "      <th></th>\n",
       "      <th></th>\n",
       "      <th></th>\n",
       "      <th></th>\n",
       "      <th></th>\n",
       "      <th></th>\n",
       "      <th></th>\n",
       "      <th></th>\n",
       "      <th></th>\n",
       "      <th></th>\n",
       "      <th></th>\n",
       "      <th></th>\n",
       "      <th></th>\n",
       "      <th></th>\n",
       "    </tr>\n",
       "  </thead>\n",
       "  <tbody>\n",
       "    <tr>\n",
       "      <th>85939</th>\n",
       "      <td>148281.662314</td>\n",
       "      <td>0.0</td>\n",
       "      <td>191739.999450</td>\n",
       "      <td>0.000000</td>\n",
       "      <td>0.000000</td>\n",
       "      <td>0.0</td>\n",
       "      <td>4.0</td>\n",
       "      <td>604.00</td>\n",
       "      <td>0.00000</td>\n",
       "      <td>0.000604</td>\n",
       "      <td>0.002416</td>\n",
       "      <td>191739.999450</td>\n",
       "      <td>5041.576519</td>\n",
       "      <td>2669.069922</td>\n",
       "      <td>296.563325</td>\n",
       "    </tr>\n",
       "    <tr>\n",
       "      <th>446029</th>\n",
       "      <td>89406.329070</td>\n",
       "      <td>0.0</td>\n",
       "      <td>123425.709615</td>\n",
       "      <td>0.000000</td>\n",
       "      <td>0.000000</td>\n",
       "      <td>0.0</td>\n",
       "      <td>1.0</td>\n",
       "      <td>711.79</td>\n",
       "      <td>0.00000</td>\n",
       "      <td>0.000712</td>\n",
       "      <td>0.000712</td>\n",
       "      <td>123425.709615</td>\n",
       "      <td>3039.815188</td>\n",
       "      <td>1609.313923</td>\n",
       "      <td>178.812658</td>\n",
       "    </tr>\n",
       "    <tr>\n",
       "      <th>285489</th>\n",
       "      <td>117160.522530</td>\n",
       "      <td>0.0</td>\n",
       "      <td>123037.931707</td>\n",
       "      <td>0.000000</td>\n",
       "      <td>49271.897585</td>\n",
       "      <td>0.0</td>\n",
       "      <td>6.0</td>\n",
       "      <td>476.33</td>\n",
       "      <td>1679.65618</td>\n",
       "      <td>0.000476</td>\n",
       "      <td>0.002858</td>\n",
       "      <td>72086.377942</td>\n",
       "      <td>4217.778811</td>\n",
       "      <td>1991.728883</td>\n",
       "      <td>117.160523</td>\n",
       "    </tr>\n",
       "    <tr>\n",
       "      <th>141523</th>\n",
       "      <td>282174.388873</td>\n",
       "      <td>0.0</td>\n",
       "      <td>354091.530441</td>\n",
       "      <td>0.000000</td>\n",
       "      <td>0.000000</td>\n",
       "      <td>0.0</td>\n",
       "      <td>1.0</td>\n",
       "      <td>17.01</td>\n",
       "      <td>0.00000</td>\n",
       "      <td>0.000017</td>\n",
       "      <td>0.000017</td>\n",
       "      <td>354091.530441</td>\n",
       "      <td>7900.882888</td>\n",
       "      <td>4514.790222</td>\n",
       "      <td>1128.697555</td>\n",
       "    </tr>\n",
       "    <tr>\n",
       "      <th>104896</th>\n",
       "      <td>40853.096512</td>\n",
       "      <td>0.0</td>\n",
       "      <td>40853.096512</td>\n",
       "      <td>13640.390612</td>\n",
       "      <td>8211.593627</td>\n",
       "      <td>0.0</td>\n",
       "      <td>2.0</td>\n",
       "      <td>568.31</td>\n",
       "      <td>0.00000</td>\n",
       "      <td>0.000568</td>\n",
       "      <td>0.001137</td>\n",
       "      <td>19001.112274</td>\n",
       "      <td>1593.270764</td>\n",
       "      <td>326.824772</td>\n",
       "      <td>40.853097</td>\n",
       "    </tr>\n",
       "  </tbody>\n",
       "</table>\n",
       "</div>"
      ],
      "text/plain": [
       "        aftertax_income  housing_ben  expanded_income     mcare_ben  \\\n",
       "RECID                                                                 \n",
       "85939     148281.662314          0.0    191739.999450      0.000000   \n",
       "446029     89406.329070          0.0    123425.709615      0.000000   \n",
       "285489    117160.522530          0.0    123037.931707      0.000000   \n",
       "141523    282174.388873          0.0    354091.530441      0.000000   \n",
       "104896     40853.096512          0.0     40853.096512  13640.390612   \n",
       "\n",
       "           mcaid_ben  vet_ben  XTOT    s006     wic_ben    s006_m    XTOT_m  \\\n",
       "RECID                                                                         \n",
       "85939       0.000000      0.0   4.0  604.00     0.00000  0.000604  0.002416   \n",
       "446029      0.000000      0.0   1.0  711.79     0.00000  0.000712  0.000712   \n",
       "285489  49271.897585      0.0   6.0  476.33  1679.65618  0.000476  0.002858   \n",
       "141523      0.000000      0.0   1.0   17.01     0.00000  0.000017  0.000017   \n",
       "104896   8211.593627      0.0   2.0  568.31     0.00000  0.000568  0.001137   \n",
       "\n",
       "              tpc_eci          vat   carbon_tax          ftt  \n",
       "RECID                                                         \n",
       "85939   191739.999450  5041.576519  2669.069922   296.563325  \n",
       "446029  123425.709615  3039.815188  1609.313923   178.812658  \n",
       "285489   72086.377942  4217.778811  1991.728883   117.160523  \n",
       "141523  354091.530441  7900.882888  4514.790222  1128.697555  \n",
       "104896   19001.112274  1593.270764   326.824772    40.853097  "
      ]
     },
     "execution_count": 10,
     "metadata": {},
     "output_type": "execute_result"
    }
   ],
   "source": [
    "df.sample(5)"
   ]
  },
  {
   "cell_type": "markdown",
   "metadata": {},
   "source": [
    "VAT with a custom amount generated."
   ]
  },
  {
   "cell_type": "code",
   "execution_count": 11,
   "metadata": {},
   "outputs": [
    {
     "data": {
      "text/plain": [
       "Index(['aftertax_income', 'housing_ben', 'expanded_income', 'mcare_ben',\n",
       "       'mcaid_ben', 'vet_ben', 'XTOT', 's006', 'wic_ben', 's006_m', 'XTOT_m',\n",
       "       'tpc_eci', 'vat', 'carbon_tax', 'ftt', 'vat2'],\n",
       "      dtype='object')"
      ]
     },
     "execution_count": 11,
     "metadata": {},
     "output_type": "execute_result"
    }
   ],
   "source": [
    "tch.add_vat(df, total=500e9, name='vat2')  # Find way to make this work.\n",
    "df.columns"
   ]
  },
  {
   "cell_type": "code",
   "execution_count": 12,
   "metadata": {},
   "outputs": [
    {
     "data": {
      "text/plain": [
       "419.6898860218403"
      ]
     },
     "execution_count": 12,
     "metadata": {},
     "output_type": "execute_result"
    }
   ],
   "source": [
    "tch.weighted_sum(df, 'vat') / 1e9"
   ]
  },
  {
   "cell_type": "code",
   "execution_count": 13,
   "metadata": {},
   "outputs": [
    {
     "data": {
      "text/plain": [
       "500.0"
      ]
     },
     "execution_count": 13,
     "metadata": {},
     "output_type": "execute_result"
    }
   ],
   "source": [
    "tch.weighted_sum(df, 'vat2') / 1e9"
   ]
  },
  {
   "cell_type": "markdown",
   "metadata": {},
   "source": [
    "Calculate by hand using `add_custom_tax`."
   ]
  },
  {
   "cell_type": "code",
   "execution_count": 14,
   "metadata": {},
   "outputs": [],
   "source": [
    "tch.add_custom_tax(df, 'tpc_eci', 'XTOT_m', 'aftertax_income', tch.VAT_INCIDENCE,\n",
    "                   'vat3', 1e12)"
   ]
  },
  {
   "cell_type": "code",
   "execution_count": 15,
   "metadata": {},
   "outputs": [
    {
     "data": {
      "text/plain": [
       "1000.0"
      ]
     },
     "execution_count": 15,
     "metadata": {},
     "output_type": "execute_result"
    }
   ],
   "source": [
    "tch.weighted_sum(df, 'vat3') / 1e9"
   ]
  }
 ],
 "metadata": {
  "kernelspec": {
   "display_name": "Python 3",
   "language": "python",
   "name": "python3"
  },
  "language_info": {
   "codemirror_mode": {
    "name": "ipython",
    "version": 3
   },
   "file_extension": ".py",
   "mimetype": "text/x-python",
   "name": "python",
   "nbconvert_exporter": "python",
   "pygments_lexer": "ipython3",
   "version": "3.6.6"
  }
 },
 "nbformat": 4,
 "nbformat_minor": 2
}
