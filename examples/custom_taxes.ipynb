{
 "cells": [
  {
   "cell_type": "markdown",
   "metadata": {},
   "source": [
    "# Custom taxes\n",
    "\n",
    "## Setup"
   ]
  },
  {
   "cell_type": "code",
   "execution_count": 1,
   "metadata": {},
   "outputs": [],
   "source": [
    "import numpy as np\n",
    "import pandas as pd\n",
    "\n",
    "import taxcalc as tc\n",
    "import taxcalc_helpers as tch"
   ]
  },
  {
   "cell_type": "code",
   "execution_count": 2,
   "metadata": {},
   "outputs": [
    {
     "data": {
      "text/plain": [
       "'2.0.1'"
      ]
     },
     "execution_count": 2,
     "metadata": {},
     "output_type": "execute_result"
    }
   ],
   "source": [
    "tc.__version__"
   ]
  },
  {
   "cell_type": "code",
   "execution_count": 3,
   "metadata": {},
   "outputs": [],
   "source": [
    "# tch.__version__\n",
    "# AttributeError: module 'taxcalc_helpers' has no attribute '__version__'"
   ]
  },
  {
   "cell_type": "markdown",
   "metadata": {},
   "source": [
    "## Load data\n",
    "\n",
    "Start with a `DataFrame` with `aftertax_income` and necessary ingredients of `tpc_eci`. "
   ]
  },
  {
   "cell_type": "code",
   "execution_count": 4,
   "metadata": {},
   "outputs": [
    {
     "data": {
      "text/plain": [
       "Index(['mcare_ben', 'housing_ben', 'mcaid_ben', 'aftertax_income',\n",
       "       'expanded_income', 'wic_ben', 'vet_ben', 'XTOT', 's006', 's006_m',\n",
       "       'XTOT_m'],\n",
       "      dtype='object')"
      ]
     },
     "execution_count": 4,
     "metadata": {},
     "output_type": "execute_result"
    }
   ],
   "source": [
    "df = tch.calc_df(group_vars=['expanded_income', 'wic_ben', 'housing_ben', \n",
    "                             'vet_ben', 'mcare_ben', 'mcaid_ben', 'aftertax_income'],\n",
    "                 metric_vars=['XTOT'])\n",
    "df.columns"
   ]
  },
  {
   "cell_type": "markdown",
   "metadata": {},
   "source": [
    "Calculate Tax Policy Center's Expanded Cash Income measure, used for the analysis."
   ]
  },
  {
   "cell_type": "code",
   "execution_count": 5,
   "metadata": {},
   "outputs": [],
   "source": [
    "df['tpc_eci'] = tch.tpc_eci(df)"
   ]
  },
  {
   "cell_type": "markdown",
   "metadata": {},
   "source": [
    "Incidence of a VAT per Tax Policy Center."
   ]
  },
  {
   "cell_type": "code",
   "execution_count": 6,
   "metadata": {},
   "outputs": [
    {
     "data": {
      "text/plain": [
       "Index(['mcare_ben', 'housing_ben', 'mcaid_ben', 'aftertax_income',\n",
       "       'expanded_income', 'wic_ben', 'vet_ben', 'XTOT', 's006', 's006_m',\n",
       "       'XTOT_m', 'tpc_eci', 'vat'],\n",
       "      dtype='object')"
      ]
     },
     "execution_count": 6,
     "metadata": {},
     "output_type": "execute_result"
    }
   ],
   "source": [
    "tch.add_vat(df)\n",
    "df.columns"
   ]
  },
  {
   "cell_type": "code",
   "execution_count": 7,
   "metadata": {},
   "outputs": [
    {
     "data": {
      "text/html": [
       "<div>\n",
       "<style scoped>\n",
       "    .dataframe tbody tr th:only-of-type {\n",
       "        vertical-align: middle;\n",
       "    }\n",
       "\n",
       "    .dataframe tbody tr th {\n",
       "        vertical-align: top;\n",
       "    }\n",
       "\n",
       "    .dataframe thead th {\n",
       "        text-align: right;\n",
       "    }\n",
       "</style>\n",
       "<table border=\"1\" class=\"dataframe\">\n",
       "  <thead>\n",
       "    <tr style=\"text-align: right;\">\n",
       "      <th></th>\n",
       "      <th>mcare_ben</th>\n",
       "      <th>housing_ben</th>\n",
       "      <th>mcaid_ben</th>\n",
       "      <th>aftertax_income</th>\n",
       "      <th>expanded_income</th>\n",
       "      <th>wic_ben</th>\n",
       "      <th>vet_ben</th>\n",
       "      <th>XTOT</th>\n",
       "      <th>s006</th>\n",
       "      <th>s006_m</th>\n",
       "      <th>XTOT_m</th>\n",
       "      <th>tpc_eci</th>\n",
       "      <th>vat</th>\n",
       "    </tr>\n",
       "    <tr>\n",
       "      <th>RECID</th>\n",
       "      <th></th>\n",
       "      <th></th>\n",
       "      <th></th>\n",
       "      <th></th>\n",
       "      <th></th>\n",
       "      <th></th>\n",
       "      <th></th>\n",
       "      <th></th>\n",
       "      <th></th>\n",
       "      <th></th>\n",
       "      <th></th>\n",
       "      <th></th>\n",
       "      <th></th>\n",
       "    </tr>\n",
       "  </thead>\n",
       "  <tbody>\n",
       "    <tr>\n",
       "      <th>37356</th>\n",
       "      <td>0.0</td>\n",
       "      <td>0.0</td>\n",
       "      <td>0.000000</td>\n",
       "      <td>-3.476245e+06</td>\n",
       "      <td>-3.367968e+06</td>\n",
       "      <td>0.0</td>\n",
       "      <td>0.0</td>\n",
       "      <td>2.0</td>\n",
       "      <td>63.19</td>\n",
       "      <td>0.000063</td>\n",
       "      <td>0.000126</td>\n",
       "      <td>-3.367968e+06</td>\n",
       "      <td>0.0</td>\n",
       "    </tr>\n",
       "    <tr>\n",
       "      <th>394743</th>\n",
       "      <td>0.0</td>\n",
       "      <td>0.0</td>\n",
       "      <td>0.000000</td>\n",
       "      <td>-9.954864e+05</td>\n",
       "      <td>-9.951682e+05</td>\n",
       "      <td>0.0</td>\n",
       "      <td>0.0</td>\n",
       "      <td>3.0</td>\n",
       "      <td>260.72</td>\n",
       "      <td>0.000261</td>\n",
       "      <td>0.000782</td>\n",
       "      <td>-9.951682e+05</td>\n",
       "      <td>0.0</td>\n",
       "    </tr>\n",
       "    <tr>\n",
       "      <th>29540</th>\n",
       "      <td>0.0</td>\n",
       "      <td>0.0</td>\n",
       "      <td>0.000000</td>\n",
       "      <td>-8.574336e+05</td>\n",
       "      <td>-8.574336e+05</td>\n",
       "      <td>0.0</td>\n",
       "      <td>0.0</td>\n",
       "      <td>2.0</td>\n",
       "      <td>631.86</td>\n",
       "      <td>0.000632</td>\n",
       "      <td>0.001264</td>\n",
       "      <td>-8.574336e+05</td>\n",
       "      <td>0.0</td>\n",
       "    </tr>\n",
       "    <tr>\n",
       "      <th>306674</th>\n",
       "      <td>0.0</td>\n",
       "      <td>0.0</td>\n",
       "      <td>16423.187253</td>\n",
       "      <td>-8.264863e+05</td>\n",
       "      <td>-8.241131e+05</td>\n",
       "      <td>0.0</td>\n",
       "      <td>0.0</td>\n",
       "      <td>2.0</td>\n",
       "      <td>208.58</td>\n",
       "      <td>0.000209</td>\n",
       "      <td>0.000417</td>\n",
       "      <td>-8.405363e+05</td>\n",
       "      <td>0.0</td>\n",
       "    </tr>\n",
       "    <tr>\n",
       "      <th>276824</th>\n",
       "      <td>0.0</td>\n",
       "      <td>0.0</td>\n",
       "      <td>0.000000</td>\n",
       "      <td>-8.325896e+05</td>\n",
       "      <td>-8.325896e+05</td>\n",
       "      <td>0.0</td>\n",
       "      <td>0.0</td>\n",
       "      <td>2.0</td>\n",
       "      <td>249.00</td>\n",
       "      <td>0.000249</td>\n",
       "      <td>0.000498</td>\n",
       "      <td>-8.325896e+05</td>\n",
       "      <td>0.0</td>\n",
       "    </tr>\n",
       "  </tbody>\n",
       "</table>\n",
       "</div>"
      ],
      "text/plain": [
       "        mcare_ben  housing_ben     mcaid_ben  aftertax_income  \\\n",
       "RECID                                                           \n",
       "37356         0.0          0.0      0.000000    -3.476245e+06   \n",
       "394743        0.0          0.0      0.000000    -9.954864e+05   \n",
       "29540         0.0          0.0      0.000000    -8.574336e+05   \n",
       "306674        0.0          0.0  16423.187253    -8.264863e+05   \n",
       "276824        0.0          0.0      0.000000    -8.325896e+05   \n",
       "\n",
       "        expanded_income  wic_ben  vet_ben  XTOT    s006    s006_m    XTOT_m  \\\n",
       "RECID                                                                         \n",
       "37356     -3.367968e+06      0.0      0.0   2.0   63.19  0.000063  0.000126   \n",
       "394743    -9.951682e+05      0.0      0.0   3.0  260.72  0.000261  0.000782   \n",
       "29540     -8.574336e+05      0.0      0.0   2.0  631.86  0.000632  0.001264   \n",
       "306674    -8.241131e+05      0.0      0.0   2.0  208.58  0.000209  0.000417   \n",
       "276824    -8.325896e+05      0.0      0.0   2.0  249.00  0.000249  0.000498   \n",
       "\n",
       "             tpc_eci  vat  \n",
       "RECID                      \n",
       "37356  -3.367968e+06  0.0  \n",
       "394743 -9.951682e+05  0.0  \n",
       "29540  -8.574336e+05  0.0  \n",
       "306674 -8.405363e+05  0.0  \n",
       "276824 -8.325896e+05  0.0  "
      ]
     },
     "execution_count": 7,
     "metadata": {},
     "output_type": "execute_result"
    }
   ],
   "source": [
    "df.head()  # Note these are zero because we block negative tax liability."
   ]
  },
  {
   "cell_type": "code",
   "execution_count": 8,
   "metadata": {},
   "outputs": [
    {
     "data": {
      "text/html": [
       "<div>\n",
       "<style scoped>\n",
       "    .dataframe tbody tr th:only-of-type {\n",
       "        vertical-align: middle;\n",
       "    }\n",
       "\n",
       "    .dataframe tbody tr th {\n",
       "        vertical-align: top;\n",
       "    }\n",
       "\n",
       "    .dataframe thead th {\n",
       "        text-align: right;\n",
       "    }\n",
       "</style>\n",
       "<table border=\"1\" class=\"dataframe\">\n",
       "  <thead>\n",
       "    <tr style=\"text-align: right;\">\n",
       "      <th></th>\n",
       "      <th>mcare_ben</th>\n",
       "      <th>housing_ben</th>\n",
       "      <th>mcaid_ben</th>\n",
       "      <th>aftertax_income</th>\n",
       "      <th>expanded_income</th>\n",
       "      <th>wic_ben</th>\n",
       "      <th>vet_ben</th>\n",
       "      <th>XTOT</th>\n",
       "      <th>s006</th>\n",
       "      <th>s006_m</th>\n",
       "      <th>XTOT_m</th>\n",
       "      <th>tpc_eci</th>\n",
       "      <th>vat</th>\n",
       "    </tr>\n",
       "    <tr>\n",
       "      <th>RECID</th>\n",
       "      <th></th>\n",
       "      <th></th>\n",
       "      <th></th>\n",
       "      <th></th>\n",
       "      <th></th>\n",
       "      <th></th>\n",
       "      <th></th>\n",
       "      <th></th>\n",
       "      <th></th>\n",
       "      <th></th>\n",
       "      <th></th>\n",
       "      <th></th>\n",
       "      <th></th>\n",
       "    </tr>\n",
       "  </thead>\n",
       "  <tbody>\n",
       "    <tr>\n",
       "      <th>280500</th>\n",
       "      <td>0.000000</td>\n",
       "      <td>0.0</td>\n",
       "      <td>0.000000</td>\n",
       "      <td>92405.432706</td>\n",
       "      <td>114312.900433</td>\n",
       "      <td>0.0</td>\n",
       "      <td>0.000000</td>\n",
       "      <td>4.0</td>\n",
       "      <td>28.60</td>\n",
       "      <td>0.000029</td>\n",
       "      <td>0.000114</td>\n",
       "      <td>114312.900433</td>\n",
       "      <td>3141.784712</td>\n",
       "    </tr>\n",
       "    <tr>\n",
       "      <th>49195</th>\n",
       "      <td>13640.390612</td>\n",
       "      <td>0.0</td>\n",
       "      <td>0.000000</td>\n",
       "      <td>108902.144645</td>\n",
       "      <td>111535.927581</td>\n",
       "      <td>0.0</td>\n",
       "      <td>0.000000</td>\n",
       "      <td>1.0</td>\n",
       "      <td>77.91</td>\n",
       "      <td>0.000078</td>\n",
       "      <td>0.000078</td>\n",
       "      <td>97895.536970</td>\n",
       "      <td>3920.477207</td>\n",
       "    </tr>\n",
       "    <tr>\n",
       "      <th>181747</th>\n",
       "      <td>0.000000</td>\n",
       "      <td>0.0</td>\n",
       "      <td>16423.187253</td>\n",
       "      <td>159179.013547</td>\n",
       "      <td>186847.452311</td>\n",
       "      <td>0.0</td>\n",
       "      <td>44458.453873</td>\n",
       "      <td>3.0</td>\n",
       "      <td>169.80</td>\n",
       "      <td>0.000170</td>\n",
       "      <td>0.000509</td>\n",
       "      <td>125965.811185</td>\n",
       "      <td>5412.086461</td>\n",
       "    </tr>\n",
       "    <tr>\n",
       "      <th>193383</th>\n",
       "      <td>27280.781223</td>\n",
       "      <td>0.0</td>\n",
       "      <td>0.000000</td>\n",
       "      <td>118306.040812</td>\n",
       "      <td>118306.040812</td>\n",
       "      <td>0.0</td>\n",
       "      <td>30418.211203</td>\n",
       "      <td>2.0</td>\n",
       "      <td>3089.25</td>\n",
       "      <td>0.003089</td>\n",
       "      <td>0.006178</td>\n",
       "      <td>60607.048385</td>\n",
       "      <td>4259.017469</td>\n",
       "    </tr>\n",
       "    <tr>\n",
       "      <th>11740</th>\n",
       "      <td>0.000000</td>\n",
       "      <td>0.0</td>\n",
       "      <td>0.000000</td>\n",
       "      <td>126765.818726</td>\n",
       "      <td>152523.334426</td>\n",
       "      <td>0.0</td>\n",
       "      <td>0.000000</td>\n",
       "      <td>2.0</td>\n",
       "      <td>12.93</td>\n",
       "      <td>0.000013</td>\n",
       "      <td>0.000026</td>\n",
       "      <td>152523.334426</td>\n",
       "      <td>4310.037837</td>\n",
       "    </tr>\n",
       "  </tbody>\n",
       "</table>\n",
       "</div>"
      ],
      "text/plain": [
       "           mcare_ben  housing_ben     mcaid_ben  aftertax_income  \\\n",
       "RECID                                                              \n",
       "280500      0.000000          0.0      0.000000     92405.432706   \n",
       "49195   13640.390612          0.0      0.000000    108902.144645   \n",
       "181747      0.000000          0.0  16423.187253    159179.013547   \n",
       "193383  27280.781223          0.0      0.000000    118306.040812   \n",
       "11740       0.000000          0.0      0.000000    126765.818726   \n",
       "\n",
       "        expanded_income  wic_ben       vet_ben  XTOT     s006    s006_m  \\\n",
       "RECID                                                                     \n",
       "280500    114312.900433      0.0      0.000000   4.0    28.60  0.000029   \n",
       "49195     111535.927581      0.0      0.000000   1.0    77.91  0.000078   \n",
       "181747    186847.452311      0.0  44458.453873   3.0   169.80  0.000170   \n",
       "193383    118306.040812      0.0  30418.211203   2.0  3089.25  0.003089   \n",
       "11740     152523.334426      0.0      0.000000   2.0    12.93  0.000013   \n",
       "\n",
       "          XTOT_m        tpc_eci          vat  \n",
       "RECID                                         \n",
       "280500  0.000114  114312.900433  3141.784712  \n",
       "49195   0.000078   97895.536970  3920.477207  \n",
       "181747  0.000509  125965.811185  5412.086461  \n",
       "193383  0.006178   60607.048385  4259.017469  \n",
       "11740   0.000026  152523.334426  4310.037837  "
      ]
     },
     "execution_count": 8,
     "metadata": {},
     "output_type": "execute_result"
    }
   ],
   "source": [
    "df.sample(5)"
   ]
  },
  {
   "cell_type": "markdown",
   "metadata": {},
   "source": [
    "Add carbon tax and financial transaction tax."
   ]
  },
  {
   "cell_type": "code",
   "execution_count": 9,
   "metadata": {},
   "outputs": [
    {
     "data": {
      "text/plain": [
       "Index(['mcare_ben', 'housing_ben', 'mcaid_ben', 'aftertax_income',\n",
       "       'expanded_income', 'wic_ben', 'vet_ben', 'XTOT', 's006', 's006_m',\n",
       "       'XTOT_m', 'tpc_eci', 'vat', 'carbon_tax', 'ftt'],\n",
       "      dtype='object')"
      ]
     },
     "execution_count": 9,
     "metadata": {},
     "output_type": "execute_result"
    }
   ],
   "source": [
    "tch.add_carbon_tax(df)\n",
    "tch.add_ftt(df)\n",
    "df.columns"
   ]
  },
  {
   "cell_type": "code",
   "execution_count": 10,
   "metadata": {},
   "outputs": [
    {
     "data": {
      "text/html": [
       "<div>\n",
       "<style scoped>\n",
       "    .dataframe tbody tr th:only-of-type {\n",
       "        vertical-align: middle;\n",
       "    }\n",
       "\n",
       "    .dataframe tbody tr th {\n",
       "        vertical-align: top;\n",
       "    }\n",
       "\n",
       "    .dataframe thead th {\n",
       "        text-align: right;\n",
       "    }\n",
       "</style>\n",
       "<table border=\"1\" class=\"dataframe\">\n",
       "  <thead>\n",
       "    <tr style=\"text-align: right;\">\n",
       "      <th></th>\n",
       "      <th>mcare_ben</th>\n",
       "      <th>housing_ben</th>\n",
       "      <th>mcaid_ben</th>\n",
       "      <th>aftertax_income</th>\n",
       "      <th>expanded_income</th>\n",
       "      <th>wic_ben</th>\n",
       "      <th>vet_ben</th>\n",
       "      <th>XTOT</th>\n",
       "      <th>s006</th>\n",
       "      <th>s006_m</th>\n",
       "      <th>XTOT_m</th>\n",
       "      <th>tpc_eci</th>\n",
       "      <th>vat</th>\n",
       "      <th>carbon_tax</th>\n",
       "      <th>ftt</th>\n",
       "    </tr>\n",
       "    <tr>\n",
       "      <th>RECID</th>\n",
       "      <th></th>\n",
       "      <th></th>\n",
       "      <th></th>\n",
       "      <th></th>\n",
       "      <th></th>\n",
       "      <th></th>\n",
       "      <th></th>\n",
       "      <th></th>\n",
       "      <th></th>\n",
       "      <th></th>\n",
       "      <th></th>\n",
       "      <th></th>\n",
       "      <th></th>\n",
       "      <th></th>\n",
       "      <th></th>\n",
       "    </tr>\n",
       "  </thead>\n",
       "  <tbody>\n",
       "    <tr>\n",
       "      <th>449339</th>\n",
       "      <td>0.000000</td>\n",
       "      <td>0.0</td>\n",
       "      <td>0.0</td>\n",
       "      <td>40450.378849</td>\n",
       "      <td>51960.525646</td>\n",
       "      <td>0.0</td>\n",
       "      <td>0.0</td>\n",
       "      <td>1.0</td>\n",
       "      <td>657.96</td>\n",
       "      <td>0.000658</td>\n",
       "      <td>0.000658</td>\n",
       "      <td>51960.525646</td>\n",
       "      <td>1456.213639</td>\n",
       "      <td>647.206062</td>\n",
       "      <td>40.450379</td>\n",
       "    </tr>\n",
       "    <tr>\n",
       "      <th>103033</th>\n",
       "      <td>0.000000</td>\n",
       "      <td>0.0</td>\n",
       "      <td>0.0</td>\n",
       "      <td>142342.022843</td>\n",
       "      <td>175952.297689</td>\n",
       "      <td>0.0</td>\n",
       "      <td>0.0</td>\n",
       "      <td>2.0</td>\n",
       "      <td>53.51</td>\n",
       "      <td>0.000054</td>\n",
       "      <td>0.000107</td>\n",
       "      <td>175952.297689</td>\n",
       "      <td>4839.628777</td>\n",
       "      <td>2562.156411</td>\n",
       "      <td>284.684046</td>\n",
       "    </tr>\n",
       "    <tr>\n",
       "      <th>121261</th>\n",
       "      <td>0.000000</td>\n",
       "      <td>0.0</td>\n",
       "      <td>0.0</td>\n",
       "      <td>36776.990628</td>\n",
       "      <td>45946.621834</td>\n",
       "      <td>0.0</td>\n",
       "      <td>0.0</td>\n",
       "      <td>1.0</td>\n",
       "      <td>41.57</td>\n",
       "      <td>0.000042</td>\n",
       "      <td>0.000042</td>\n",
       "      <td>45946.621834</td>\n",
       "      <td>1323.971663</td>\n",
       "      <td>551.654859</td>\n",
       "      <td>36.776991</td>\n",
       "    </tr>\n",
       "    <tr>\n",
       "      <th>51646</th>\n",
       "      <td>27280.781223</td>\n",
       "      <td>0.0</td>\n",
       "      <td>0.0</td>\n",
       "      <td>130867.231726</td>\n",
       "      <td>145172.830887</td>\n",
       "      <td>0.0</td>\n",
       "      <td>0.0</td>\n",
       "      <td>2.0</td>\n",
       "      <td>82.95</td>\n",
       "      <td>0.000083</td>\n",
       "      <td>0.000166</td>\n",
       "      <td>117892.049664</td>\n",
       "      <td>4449.485879</td>\n",
       "      <td>2355.610171</td>\n",
       "      <td>261.734463</td>\n",
       "    </tr>\n",
       "    <tr>\n",
       "      <th>104016</th>\n",
       "      <td>27280.781223</td>\n",
       "      <td>0.0</td>\n",
       "      <td>0.0</td>\n",
       "      <td>180518.400495</td>\n",
       "      <td>182745.035880</td>\n",
       "      <td>0.0</td>\n",
       "      <td>0.0</td>\n",
       "      <td>2.0</td>\n",
       "      <td>70.47</td>\n",
       "      <td>0.000070</td>\n",
       "      <td>0.000141</td>\n",
       "      <td>155464.254657</td>\n",
       "      <td>6137.625617</td>\n",
       "      <td>3249.331209</td>\n",
       "      <td>361.036801</td>\n",
       "    </tr>\n",
       "  </tbody>\n",
       "</table>\n",
       "</div>"
      ],
      "text/plain": [
       "           mcare_ben  housing_ben  mcaid_ben  aftertax_income  \\\n",
       "RECID                                                           \n",
       "449339      0.000000          0.0        0.0     40450.378849   \n",
       "103033      0.000000          0.0        0.0    142342.022843   \n",
       "121261      0.000000          0.0        0.0     36776.990628   \n",
       "51646   27280.781223          0.0        0.0    130867.231726   \n",
       "104016  27280.781223          0.0        0.0    180518.400495   \n",
       "\n",
       "        expanded_income  wic_ben  vet_ben  XTOT    s006    s006_m    XTOT_m  \\\n",
       "RECID                                                                         \n",
       "449339     51960.525646      0.0      0.0   1.0  657.96  0.000658  0.000658   \n",
       "103033    175952.297689      0.0      0.0   2.0   53.51  0.000054  0.000107   \n",
       "121261     45946.621834      0.0      0.0   1.0   41.57  0.000042  0.000042   \n",
       "51646     145172.830887      0.0      0.0   2.0   82.95  0.000083  0.000166   \n",
       "104016    182745.035880      0.0      0.0   2.0   70.47  0.000070  0.000141   \n",
       "\n",
       "              tpc_eci          vat   carbon_tax         ftt  \n",
       "RECID                                                        \n",
       "449339   51960.525646  1456.213639   647.206062   40.450379  \n",
       "103033  175952.297689  4839.628777  2562.156411  284.684046  \n",
       "121261   45946.621834  1323.971663   551.654859   36.776991  \n",
       "51646   117892.049664  4449.485879  2355.610171  261.734463  \n",
       "104016  155464.254657  6137.625617  3249.331209  361.036801  "
      ]
     },
     "execution_count": 10,
     "metadata": {},
     "output_type": "execute_result"
    }
   ],
   "source": [
    "df.sample(5)"
   ]
  },
  {
   "cell_type": "markdown",
   "metadata": {},
   "source": [
    "VAT with a custom amount generated."
   ]
  },
  {
   "cell_type": "code",
   "execution_count": 11,
   "metadata": {},
   "outputs": [
    {
     "data": {
      "text/plain": [
       "Index(['mcare_ben', 'housing_ben', 'mcaid_ben', 'aftertax_income',\n",
       "       'expanded_income', 'wic_ben', 'vet_ben', 'XTOT', 's006', 's006_m',\n",
       "       'XTOT_m', 'tpc_eci', 'vat', 'carbon_tax', 'ftt', 'vat2'],\n",
       "      dtype='object')"
      ]
     },
     "execution_count": 11,
     "metadata": {},
     "output_type": "execute_result"
    }
   ],
   "source": [
    "tch.add_vat(df, total=500e9, name='vat2')  # Find way to make this work.\n",
    "df.columns"
   ]
  },
  {
   "cell_type": "code",
   "execution_count": 12,
   "metadata": {},
   "outputs": [
    {
     "data": {
      "text/plain": [
       "419.6898860218403"
      ]
     },
     "execution_count": 12,
     "metadata": {},
     "output_type": "execute_result"
    }
   ],
   "source": [
    "tch.weighted_sum(df, 'vat') / 1e9"
   ]
  },
  {
   "cell_type": "code",
   "execution_count": 13,
   "metadata": {},
   "outputs": [
    {
     "data": {
      "text/plain": [
       "500.0"
      ]
     },
     "execution_count": 13,
     "metadata": {},
     "output_type": "execute_result"
    }
   ],
   "source": [
    "tch.weighted_sum(df, 'vat2') / 1e9"
   ]
  },
  {
   "cell_type": "markdown",
   "metadata": {},
   "source": [
    "Calculate by hand using `add_custom_tax`."
   ]
  },
  {
   "cell_type": "code",
   "execution_count": 14,
   "metadata": {},
   "outputs": [],
   "source": [
    "tch.add_custom_tax(df, 'tpc_eci', 'XTOT_m', 'aftertax_income', tch.VAT_INCIDENCE,\n",
    "                   'vat3', 1e12)"
   ]
  },
  {
   "cell_type": "code",
   "execution_count": 15,
   "metadata": {},
   "outputs": [
    {
     "data": {
      "text/plain": [
       "1000.0"
      ]
     },
     "execution_count": 15,
     "metadata": {},
     "output_type": "execute_result"
    }
   ],
   "source": [
    "tch.weighted_sum(df, 'vat3') / 1e9"
   ]
  }
 ],
 "metadata": {
  "kernelspec": {
   "display_name": "Python 3",
   "language": "python",
   "name": "python3"
  },
  "language_info": {
   "codemirror_mode": {
    "name": "ipython",
    "version": 3
   },
   "file_extension": ".py",
   "mimetype": "text/x-python",
   "name": "python",
   "nbconvert_exporter": "python",
   "pygments_lexer": "ipython3",
   "version": "3.6.6"
  }
 },
 "nbformat": 4,
 "nbformat_minor": 2
}
