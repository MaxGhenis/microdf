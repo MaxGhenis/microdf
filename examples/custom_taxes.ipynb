{
 "cells": [
  {
   "cell_type": "markdown",
   "metadata": {},
   "source": [
    "# Custom taxes\n",
    "\n",
    "## Setup"
   ]
  },
  {
   "cell_type": "code",
   "execution_count": 1,
   "metadata": {},
   "outputs": [],
   "source": [
    "import numpy as np\n",
    "import pandas as pd\n",
    "\n",
    "import taxcalc as tc\n",
    "import taxcalc_helpers as tch"
   ]
  },
  {
   "cell_type": "code",
   "execution_count": 2,
   "metadata": {},
   "outputs": [
    {
     "data": {
      "text/plain": [
       "'2.0.1'"
      ]
     },
     "execution_count": 2,
     "metadata": {},
     "output_type": "execute_result"
    }
   ],
   "source": [
    "tc.__version__"
   ]
  },
  {
   "cell_type": "code",
   "execution_count": 3,
   "metadata": {},
   "outputs": [],
   "source": [
    "# tch.__version__\n",
    "# AttributeError: module 'taxcalc_helpers' has no attribute '__version__'"
   ]
  },
  {
   "cell_type": "markdown",
   "metadata": {},
   "source": [
    "## Load data\n",
    "\n",
    "Start with a `DataFrame` with `aftertax_income` and necessary ingredients of `tpc_eci`. "
   ]
  },
  {
   "cell_type": "code",
   "execution_count": 4,
   "metadata": {},
   "outputs": [
    {
     "data": {
      "text/plain": [
       "Index(['expanded_income', 'mcare_ben', 'mcaid_ben', 's006', 'XTOT',\n",
       "       'housing_ben', 'vet_ben', 'aftertax_income', 'wic_ben', 's006_m',\n",
       "       'XTOT_m'],\n",
       "      dtype='object')"
      ]
     },
     "execution_count": 4,
     "metadata": {},
     "output_type": "execute_result"
    }
   ],
   "source": [
    "df = tch.calc_df(group_vars=['expanded_income', 'wic_ben', 'housing_ben', \n",
    "                             'vet_ben', 'mcare_ben', 'mcaid_ben', 'aftertax_income'],\n",
    "                 metric_vars=['XTOT'])\n",
    "df.columns"
   ]
  },
  {
   "cell_type": "markdown",
   "metadata": {},
   "source": [
    "Calculate Tax Policy Center's Expanded Cash Income measure, used for the analysis."
   ]
  },
  {
   "cell_type": "code",
   "execution_count": 5,
   "metadata": {},
   "outputs": [],
   "source": [
    "df['tpc_eci'] = tch.tpc_eci(df)"
   ]
  },
  {
   "cell_type": "markdown",
   "metadata": {},
   "source": [
    "Incidence of a VAT per Tax Policy Center."
   ]
  },
  {
   "cell_type": "code",
   "execution_count": 6,
   "metadata": {},
   "outputs": [
    {
     "data": {
      "text/plain": [
       "Index(['expanded_income', 'mcare_ben', 'mcaid_ben', 's006', 'XTOT',\n",
       "       'housing_ben', 'vet_ben', 'aftertax_income', 'wic_ben', 's006_m',\n",
       "       'XTOT_m', 'tpc_eci', 'vat_incidence', 'vat_liability'],\n",
       "      dtype='object')"
      ]
     },
     "execution_count": 6,
     "metadata": {},
     "output_type": "execute_result"
    }
   ],
   "source": [
    "tch.add_vat(df)\n",
    "df.columns"
   ]
  },
  {
   "cell_type": "code",
   "execution_count": 7,
   "metadata": {},
   "outputs": [
    {
     "data": {
      "text/html": [
       "<div>\n",
       "<style scoped>\n",
       "    .dataframe tbody tr th:only-of-type {\n",
       "        vertical-align: middle;\n",
       "    }\n",
       "\n",
       "    .dataframe tbody tr th {\n",
       "        vertical-align: top;\n",
       "    }\n",
       "\n",
       "    .dataframe thead th {\n",
       "        text-align: right;\n",
       "    }\n",
       "</style>\n",
       "<table border=\"1\" class=\"dataframe\">\n",
       "  <thead>\n",
       "    <tr style=\"text-align: right;\">\n",
       "      <th></th>\n",
       "      <th>expanded_income</th>\n",
       "      <th>mcare_ben</th>\n",
       "      <th>mcaid_ben</th>\n",
       "      <th>s006</th>\n",
       "      <th>XTOT</th>\n",
       "      <th>housing_ben</th>\n",
       "      <th>vet_ben</th>\n",
       "      <th>aftertax_income</th>\n",
       "      <th>wic_ben</th>\n",
       "      <th>s006_m</th>\n",
       "      <th>XTOT_m</th>\n",
       "      <th>tpc_eci</th>\n",
       "      <th>vat_incidence</th>\n",
       "      <th>vat_liability</th>\n",
       "    </tr>\n",
       "    <tr>\n",
       "      <th>RECID</th>\n",
       "      <th></th>\n",
       "      <th></th>\n",
       "      <th></th>\n",
       "      <th></th>\n",
       "      <th></th>\n",
       "      <th></th>\n",
       "      <th></th>\n",
       "      <th></th>\n",
       "      <th></th>\n",
       "      <th></th>\n",
       "      <th></th>\n",
       "      <th></th>\n",
       "      <th></th>\n",
       "      <th></th>\n",
       "    </tr>\n",
       "  </thead>\n",
       "  <tbody>\n",
       "    <tr>\n",
       "      <th>37356</th>\n",
       "      <td>-3.367968e+06</td>\n",
       "      <td>0.0</td>\n",
       "      <td>0.000000</td>\n",
       "      <td>63.19</td>\n",
       "      <td>2.0</td>\n",
       "      <td>0.0</td>\n",
       "      <td>0.0</td>\n",
       "      <td>-3.476245e+06</td>\n",
       "      <td>0.0</td>\n",
       "      <td>0.000063</td>\n",
       "      <td>0.000126</td>\n",
       "      <td>-3.367968e+06</td>\n",
       "      <td>0.039</td>\n",
       "      <td>0.0</td>\n",
       "    </tr>\n",
       "    <tr>\n",
       "      <th>394743</th>\n",
       "      <td>-9.951682e+05</td>\n",
       "      <td>0.0</td>\n",
       "      <td>0.000000</td>\n",
       "      <td>260.72</td>\n",
       "      <td>3.0</td>\n",
       "      <td>0.0</td>\n",
       "      <td>0.0</td>\n",
       "      <td>-9.954864e+05</td>\n",
       "      <td>0.0</td>\n",
       "      <td>0.000261</td>\n",
       "      <td>0.000782</td>\n",
       "      <td>-9.951682e+05</td>\n",
       "      <td>0.039</td>\n",
       "      <td>0.0</td>\n",
       "    </tr>\n",
       "    <tr>\n",
       "      <th>29540</th>\n",
       "      <td>-8.574336e+05</td>\n",
       "      <td>0.0</td>\n",
       "      <td>0.000000</td>\n",
       "      <td>631.86</td>\n",
       "      <td>2.0</td>\n",
       "      <td>0.0</td>\n",
       "      <td>0.0</td>\n",
       "      <td>-8.574336e+05</td>\n",
       "      <td>0.0</td>\n",
       "      <td>0.000632</td>\n",
       "      <td>0.001264</td>\n",
       "      <td>-8.574336e+05</td>\n",
       "      <td>0.039</td>\n",
       "      <td>0.0</td>\n",
       "    </tr>\n",
       "    <tr>\n",
       "      <th>306674</th>\n",
       "      <td>-8.241131e+05</td>\n",
       "      <td>0.0</td>\n",
       "      <td>16423.187253</td>\n",
       "      <td>208.58</td>\n",
       "      <td>2.0</td>\n",
       "      <td>0.0</td>\n",
       "      <td>0.0</td>\n",
       "      <td>-8.264863e+05</td>\n",
       "      <td>0.0</td>\n",
       "      <td>0.000209</td>\n",
       "      <td>0.000417</td>\n",
       "      <td>-8.405363e+05</td>\n",
       "      <td>0.039</td>\n",
       "      <td>0.0</td>\n",
       "    </tr>\n",
       "    <tr>\n",
       "      <th>276824</th>\n",
       "      <td>-8.325896e+05</td>\n",
       "      <td>0.0</td>\n",
       "      <td>0.000000</td>\n",
       "      <td>249.00</td>\n",
       "      <td>2.0</td>\n",
       "      <td>0.0</td>\n",
       "      <td>0.0</td>\n",
       "      <td>-8.325896e+05</td>\n",
       "      <td>0.0</td>\n",
       "      <td>0.000249</td>\n",
       "      <td>0.000498</td>\n",
       "      <td>-8.325896e+05</td>\n",
       "      <td>0.039</td>\n",
       "      <td>0.0</td>\n",
       "    </tr>\n",
       "  </tbody>\n",
       "</table>\n",
       "</div>"
      ],
      "text/plain": [
       "        expanded_income  mcare_ben     mcaid_ben    s006  XTOT  housing_ben  \\\n",
       "RECID                                                                         \n",
       "37356     -3.367968e+06        0.0      0.000000   63.19   2.0          0.0   \n",
       "394743    -9.951682e+05        0.0      0.000000  260.72   3.0          0.0   \n",
       "29540     -8.574336e+05        0.0      0.000000  631.86   2.0          0.0   \n",
       "306674    -8.241131e+05        0.0  16423.187253  208.58   2.0          0.0   \n",
       "276824    -8.325896e+05        0.0      0.000000  249.00   2.0          0.0   \n",
       "\n",
       "        vet_ben  aftertax_income  wic_ben    s006_m    XTOT_m       tpc_eci  \\\n",
       "RECID                                                                         \n",
       "37356       0.0    -3.476245e+06      0.0  0.000063  0.000126 -3.367968e+06   \n",
       "394743      0.0    -9.954864e+05      0.0  0.000261  0.000782 -9.951682e+05   \n",
       "29540       0.0    -8.574336e+05      0.0  0.000632  0.001264 -8.574336e+05   \n",
       "306674      0.0    -8.264863e+05      0.0  0.000209  0.000417 -8.405363e+05   \n",
       "276824      0.0    -8.325896e+05      0.0  0.000249  0.000498 -8.325896e+05   \n",
       "\n",
       "        vat_incidence  vat_liability  \n",
       "RECID                                 \n",
       "37356           0.039            0.0  \n",
       "394743          0.039            0.0  \n",
       "29540           0.039            0.0  \n",
       "306674          0.039            0.0  \n",
       "276824          0.039            0.0  "
      ]
     },
     "execution_count": 7,
     "metadata": {},
     "output_type": "execute_result"
    }
   ],
   "source": [
    "df.head()  # Note these are zero because we block negative tax liability."
   ]
  },
  {
   "cell_type": "code",
   "execution_count": 8,
   "metadata": {},
   "outputs": [
    {
     "data": {
      "text/html": [
       "<div>\n",
       "<style scoped>\n",
       "    .dataframe tbody tr th:only-of-type {\n",
       "        vertical-align: middle;\n",
       "    }\n",
       "\n",
       "    .dataframe tbody tr th {\n",
       "        vertical-align: top;\n",
       "    }\n",
       "\n",
       "    .dataframe thead th {\n",
       "        text-align: right;\n",
       "    }\n",
       "</style>\n",
       "<table border=\"1\" class=\"dataframe\">\n",
       "  <thead>\n",
       "    <tr style=\"text-align: right;\">\n",
       "      <th></th>\n",
       "      <th>expanded_income</th>\n",
       "      <th>mcare_ben</th>\n",
       "      <th>mcaid_ben</th>\n",
       "      <th>s006</th>\n",
       "      <th>XTOT</th>\n",
       "      <th>housing_ben</th>\n",
       "      <th>vet_ben</th>\n",
       "      <th>aftertax_income</th>\n",
       "      <th>wic_ben</th>\n",
       "      <th>s006_m</th>\n",
       "      <th>XTOT_m</th>\n",
       "      <th>tpc_eci</th>\n",
       "      <th>vat_incidence</th>\n",
       "      <th>vat_liability</th>\n",
       "    </tr>\n",
       "    <tr>\n",
       "      <th>RECID</th>\n",
       "      <th></th>\n",
       "      <th></th>\n",
       "      <th></th>\n",
       "      <th></th>\n",
       "      <th></th>\n",
       "      <th></th>\n",
       "      <th></th>\n",
       "      <th></th>\n",
       "      <th></th>\n",
       "      <th></th>\n",
       "      <th></th>\n",
       "      <th></th>\n",
       "      <th></th>\n",
       "      <th></th>\n",
       "    </tr>\n",
       "  </thead>\n",
       "  <tbody>\n",
       "    <tr>\n",
       "      <th>229145</th>\n",
       "      <td>375471.169787</td>\n",
       "      <td>0.000000</td>\n",
       "      <td>0.0</td>\n",
       "      <td>76.63</td>\n",
       "      <td>2.0</td>\n",
       "      <td>0.0</td>\n",
       "      <td>0.0</td>\n",
       "      <td>325401.303049</td>\n",
       "      <td>0.0</td>\n",
       "      <td>0.000077</td>\n",
       "      <td>0.000153</td>\n",
       "      <td>375471.169787</td>\n",
       "      <td>0.028</td>\n",
       "      <td>9111.236485</td>\n",
       "    </tr>\n",
       "    <tr>\n",
       "      <th>122171</th>\n",
       "      <td>421771.809501</td>\n",
       "      <td>0.000000</td>\n",
       "      <td>0.0</td>\n",
       "      <td>57.51</td>\n",
       "      <td>4.0</td>\n",
       "      <td>0.0</td>\n",
       "      <td>0.0</td>\n",
       "      <td>302386.296155</td>\n",
       "      <td>0.0</td>\n",
       "      <td>0.000058</td>\n",
       "      <td>0.000230</td>\n",
       "      <td>421771.809501</td>\n",
       "      <td>0.028</td>\n",
       "      <td>8466.816292</td>\n",
       "    </tr>\n",
       "    <tr>\n",
       "      <th>174224</th>\n",
       "      <td>675098.345926</td>\n",
       "      <td>13640.390612</td>\n",
       "      <td>0.0</td>\n",
       "      <td>7.00</td>\n",
       "      <td>1.0</td>\n",
       "      <td>0.0</td>\n",
       "      <td>0.0</td>\n",
       "      <td>480201.766555</td>\n",
       "      <td>0.0</td>\n",
       "      <td>0.000007</td>\n",
       "      <td>0.000007</td>\n",
       "      <td>661457.955314</td>\n",
       "      <td>0.025</td>\n",
       "      <td>12005.044164</td>\n",
       "    </tr>\n",
       "    <tr>\n",
       "      <th>143483</th>\n",
       "      <td>168967.779141</td>\n",
       "      <td>0.000000</td>\n",
       "      <td>0.0</td>\n",
       "      <td>88.40</td>\n",
       "      <td>2.0</td>\n",
       "      <td>0.0</td>\n",
       "      <td>0.0</td>\n",
       "      <td>140103.364041</td>\n",
       "      <td>0.0</td>\n",
       "      <td>0.000088</td>\n",
       "      <td>0.000177</td>\n",
       "      <td>168967.779141</td>\n",
       "      <td>0.034</td>\n",
       "      <td>4763.514377</td>\n",
       "    </tr>\n",
       "    <tr>\n",
       "      <th>145873</th>\n",
       "      <td>45056.489946</td>\n",
       "      <td>0.000000</td>\n",
       "      <td>0.0</td>\n",
       "      <td>378.49</td>\n",
       "      <td>3.0</td>\n",
       "      <td>0.0</td>\n",
       "      <td>0.0</td>\n",
       "      <td>40885.357520</td>\n",
       "      <td>0.0</td>\n",
       "      <td>0.000378</td>\n",
       "      <td>0.001135</td>\n",
       "      <td>45056.489946</td>\n",
       "      <td>0.036</td>\n",
       "      <td>1471.872871</td>\n",
       "    </tr>\n",
       "  </tbody>\n",
       "</table>\n",
       "</div>"
      ],
      "text/plain": [
       "        expanded_income     mcare_ben  mcaid_ben    s006  XTOT  housing_ben  \\\n",
       "RECID                                                                         \n",
       "229145    375471.169787      0.000000        0.0   76.63   2.0          0.0   \n",
       "122171    421771.809501      0.000000        0.0   57.51   4.0          0.0   \n",
       "174224    675098.345926  13640.390612        0.0    7.00   1.0          0.0   \n",
       "143483    168967.779141      0.000000        0.0   88.40   2.0          0.0   \n",
       "145873     45056.489946      0.000000        0.0  378.49   3.0          0.0   \n",
       "\n",
       "        vet_ben  aftertax_income  wic_ben    s006_m    XTOT_m        tpc_eci  \\\n",
       "RECID                                                                          \n",
       "229145      0.0    325401.303049      0.0  0.000077  0.000153  375471.169787   \n",
       "122171      0.0    302386.296155      0.0  0.000058  0.000230  421771.809501   \n",
       "174224      0.0    480201.766555      0.0  0.000007  0.000007  661457.955314   \n",
       "143483      0.0    140103.364041      0.0  0.000088  0.000177  168967.779141   \n",
       "145873      0.0     40885.357520      0.0  0.000378  0.001135   45056.489946   \n",
       "\n",
       "        vat_incidence  vat_liability  \n",
       "RECID                                 \n",
       "229145          0.028    9111.236485  \n",
       "122171          0.028    8466.816292  \n",
       "174224          0.025   12005.044164  \n",
       "143483          0.034    4763.514377  \n",
       "145873          0.036    1471.872871  "
      ]
     },
     "execution_count": 8,
     "metadata": {},
     "output_type": "execute_result"
    }
   ],
   "source": [
    "df.sample(5)"
   ]
  }
 ],
 "metadata": {
  "kernelspec": {
   "display_name": "Python 3",
   "language": "python",
   "name": "python3"
  },
  "language_info": {
   "codemirror_mode": {
    "name": "ipython",
    "version": 3
   },
   "file_extension": ".py",
   "mimetype": "text/x-python",
   "name": "python",
   "nbconvert_exporter": "python",
   "pygments_lexer": "ipython3",
   "version": "3.6.6"
  }
 },
 "nbformat": 4,
 "nbformat_minor": 2
}
