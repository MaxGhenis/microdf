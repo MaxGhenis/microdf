{
 "cells": [
  {
   "cell_type": "markdown",
   "metadata": {},
   "source": [
    "# Income measures\n",
    "\n",
    "## Setup"
   ]
  },
  {
   "cell_type": "code",
   "execution_count": 1,
   "metadata": {
    "execution": {
     "iopub.execute_input": "2020-06-23T05:51:56.443672Z",
     "iopub.status.busy": "2020-06-23T05:51:56.440602Z",
     "iopub.status.idle": "2020-06-23T05:51:58.921599Z",
     "shell.execute_reply": "2020-06-23T05:51:58.920098Z"
    }
   },
   "outputs": [],
   "source": [
    "import numpy as np\n",
    "import pandas as pd\n",
    "\n",
    "import taxcalc as tc\n",
    "import microdf as mdf"
   ]
  },
  {
   "cell_type": "code",
   "execution_count": 2,
   "metadata": {
    "execution": {
     "iopub.execute_input": "2020-06-23T05:51:58.930088Z",
     "iopub.status.busy": "2020-06-23T05:51:58.928861Z",
     "iopub.status.idle": "2020-06-23T05:51:58.933136Z",
     "shell.execute_reply": "2020-06-23T05:51:58.932585Z"
    }
   },
   "outputs": [
    {
     "data": {
      "text/plain": [
       "'2.9.0'"
      ]
     },
     "execution_count": 2,
     "metadata": {},
     "output_type": "execute_result"
    }
   ],
   "source": [
    "tc.__version__"
   ]
  },
  {
   "cell_type": "markdown",
   "metadata": {},
   "source": [
    "## Load data\n",
    "\n",
    "Start with a `DataFrame` with `expanded_income` and the variables in `expanded_income` excluded from `tpc_eci`."
   ]
  },
  {
   "cell_type": "code",
   "execution_count": 3,
   "metadata": {
    "execution": {
     "iopub.execute_input": "2020-06-23T05:51:58.939904Z",
     "iopub.status.busy": "2020-06-23T05:51:58.938944Z",
     "iopub.status.idle": "2020-06-23T05:52:33.470831Z",
     "shell.execute_reply": "2020-06-23T05:52:33.470307Z"
    }
   },
   "outputs": [],
   "source": [
    "df = mdf.calc_df(group_vars=['expanded_income', 'wic_ben', 'housing_ben', \n",
    "                             'vet_ben', 'mcare_ben', 'mcaid_ben'],\n",
    "                 metric_vars=['XTOT'])"
   ]
  },
  {
   "cell_type": "markdown",
   "metadata": {},
   "source": [
    "Calculate `tpc_eci`."
   ]
  },
  {
   "cell_type": "code",
   "execution_count": 4,
   "metadata": {
    "execution": {
     "iopub.execute_input": "2020-06-23T05:52:33.479922Z",
     "iopub.status.busy": "2020-06-23T05:52:33.479203Z",
     "iopub.status.idle": "2020-06-23T05:52:33.512742Z",
     "shell.execute_reply": "2020-06-23T05:52:33.512161Z"
    }
   },
   "outputs": [],
   "source": [
    "df['tpc_eci'] = mdf.tpc_eci(df)"
   ]
  },
  {
   "cell_type": "code",
   "execution_count": 5,
   "metadata": {
    "execution": {
     "iopub.execute_input": "2020-06-23T05:52:33.541714Z",
     "iopub.status.busy": "2020-06-23T05:52:33.529910Z",
     "iopub.status.idle": "2020-06-23T05:52:33.546132Z",
     "shell.execute_reply": "2020-06-23T05:52:33.545560Z"
    }
   },
   "outputs": [
    {
     "data": {
      "text/html": [
       "<div>\n",
       "<style scoped>\n",
       "    .dataframe tbody tr th:only-of-type {\n",
       "        vertical-align: middle;\n",
       "    }\n",
       "\n",
       "    .dataframe tbody tr th {\n",
       "        vertical-align: top;\n",
       "    }\n",
       "\n",
       "    .dataframe thead th {\n",
       "        text-align: right;\n",
       "    }\n",
       "</style>\n",
       "<table border=\"1\" class=\"dataframe\">\n",
       "  <thead>\n",
       "    <tr style=\"text-align: right;\">\n",
       "      <th></th>\n",
       "      <th>mcare_ben</th>\n",
       "      <th>tanf_ben</th>\n",
       "      <th>snap_ben</th>\n",
       "      <th>ssi_ben</th>\n",
       "      <th>mcaid_ben</th>\n",
       "      <th>wic_ben</th>\n",
       "      <th>s006</th>\n",
       "      <th>e02300</th>\n",
       "      <th>expanded_income</th>\n",
       "      <th>XTOT</th>\n",
       "      <th>...</th>\n",
       "      <th>housing_ben</th>\n",
       "      <th>e02400</th>\n",
       "      <th>aftertax_income</th>\n",
       "      <th>other_ben</th>\n",
       "      <th>market_income</th>\n",
       "      <th>bens</th>\n",
       "      <th>tax</th>\n",
       "      <th>s006_m</th>\n",
       "      <th>XTOT_m</th>\n",
       "      <th>tpc_eci</th>\n",
       "    </tr>\n",
       "    <tr>\n",
       "      <th>RECID</th>\n",
       "      <th></th>\n",
       "      <th></th>\n",
       "      <th></th>\n",
       "      <th></th>\n",
       "      <th></th>\n",
       "      <th></th>\n",
       "      <th></th>\n",
       "      <th></th>\n",
       "      <th></th>\n",
       "      <th></th>\n",
       "      <th></th>\n",
       "      <th></th>\n",
       "      <th></th>\n",
       "      <th></th>\n",
       "      <th></th>\n",
       "      <th></th>\n",
       "      <th></th>\n",
       "      <th></th>\n",
       "      <th></th>\n",
       "      <th></th>\n",
       "      <th></th>\n",
       "    </tr>\n",
       "  </thead>\n",
       "  <tbody>\n",
       "    <tr>\n",
       "      <th>1</th>\n",
       "      <td>0.000000</td>\n",
       "      <td>0.0</td>\n",
       "      <td>0.00000</td>\n",
       "      <td>0.00000</td>\n",
       "      <td>0.000000</td>\n",
       "      <td>0.0</td>\n",
       "      <td>250.14</td>\n",
       "      <td>0.0</td>\n",
       "      <td>54039.301075</td>\n",
       "      <td>2.0</td>\n",
       "      <td>...</td>\n",
       "      <td>0.00000</td>\n",
       "      <td>0.000000</td>\n",
       "      <td>43653.332955</td>\n",
       "      <td>0.000000</td>\n",
       "      <td>54039.301075</td>\n",
       "      <td>0.000000</td>\n",
       "      <td>10385.968120</td>\n",
       "      <td>0.000250</td>\n",
       "      <td>0.000500</td>\n",
       "      <td>54039.301075</td>\n",
       "    </tr>\n",
       "    <tr>\n",
       "      <th>2</th>\n",
       "      <td>0.000000</td>\n",
       "      <td>0.0</td>\n",
       "      <td>0.00000</td>\n",
       "      <td>0.00000</td>\n",
       "      <td>0.000000</td>\n",
       "      <td>0.0</td>\n",
       "      <td>211.63</td>\n",
       "      <td>0.0</td>\n",
       "      <td>18789.917880</td>\n",
       "      <td>3.0</td>\n",
       "      <td>...</td>\n",
       "      <td>0.00000</td>\n",
       "      <td>0.000000</td>\n",
       "      <td>21045.358255</td>\n",
       "      <td>0.000000</td>\n",
       "      <td>18789.917880</td>\n",
       "      <td>0.000000</td>\n",
       "      <td>-2255.440376</td>\n",
       "      <td>0.000212</td>\n",
       "      <td>0.000635</td>\n",
       "      <td>18789.917880</td>\n",
       "    </tr>\n",
       "    <tr>\n",
       "      <th>3</th>\n",
       "      <td>13640.390612</td>\n",
       "      <td>0.0</td>\n",
       "      <td>1734.12939</td>\n",
       "      <td>3374.52239</td>\n",
       "      <td>8211.593627</td>\n",
       "      <td>0.0</td>\n",
       "      <td>323.50</td>\n",
       "      <td>0.0</td>\n",
       "      <td>52529.495570</td>\n",
       "      <td>1.0</td>\n",
       "      <td>...</td>\n",
       "      <td>5664.74794</td>\n",
       "      <td>13240.409989</td>\n",
       "      <td>52529.495570</td>\n",
       "      <td>6663.701623</td>\n",
       "      <td>0.000000</td>\n",
       "      <td>52529.495570</td>\n",
       "      <td>0.000000</td>\n",
       "      <td>0.000324</td>\n",
       "      <td>0.000324</td>\n",
       "      <td>25012.763391</td>\n",
       "    </tr>\n",
       "    <tr>\n",
       "      <th>4</th>\n",
       "      <td>0.000000</td>\n",
       "      <td>0.0</td>\n",
       "      <td>0.00000</td>\n",
       "      <td>0.00000</td>\n",
       "      <td>8211.593627</td>\n",
       "      <td>0.0</td>\n",
       "      <td>186.32</td>\n",
       "      <td>0.0</td>\n",
       "      <td>37956.655257</td>\n",
       "      <td>2.0</td>\n",
       "      <td>...</td>\n",
       "      <td>0.00000</td>\n",
       "      <td>0.000000</td>\n",
       "      <td>36950.797734</td>\n",
       "      <td>3906.542368</td>\n",
       "      <td>25838.519262</td>\n",
       "      <td>12118.135995</td>\n",
       "      <td>1005.857523</td>\n",
       "      <td>0.000186</td>\n",
       "      <td>0.000373</td>\n",
       "      <td>29745.061630</td>\n",
       "    </tr>\n",
       "    <tr>\n",
       "      <th>5</th>\n",
       "      <td>27280.781223</td>\n",
       "      <td>0.0</td>\n",
       "      <td>0.00000</td>\n",
       "      <td>0.00000</td>\n",
       "      <td>0.000000</td>\n",
       "      <td>0.0</td>\n",
       "      <td>343.08</td>\n",
       "      <td>0.0</td>\n",
       "      <td>63986.590233</td>\n",
       "      <td>2.0</td>\n",
       "      <td>...</td>\n",
       "      <td>0.00000</td>\n",
       "      <td>35596.390999</td>\n",
       "      <td>63986.590233</td>\n",
       "      <td>0.000000</td>\n",
       "      <td>1109.418010</td>\n",
       "      <td>62877.172223</td>\n",
       "      <td>0.000000</td>\n",
       "      <td>0.000343</td>\n",
       "      <td>0.000686</td>\n",
       "      <td>36705.809010</td>\n",
       "    </tr>\n",
       "  </tbody>\n",
       "</table>\n",
       "<p>5 rows × 21 columns</p>\n",
       "</div>"
      ],
      "text/plain": [
       "          mcare_ben  tanf_ben    snap_ben     ssi_ben    mcaid_ben  wic_ben  \\\n",
       "RECID                                                                         \n",
       "1          0.000000       0.0     0.00000     0.00000     0.000000      0.0   \n",
       "2          0.000000       0.0     0.00000     0.00000     0.000000      0.0   \n",
       "3      13640.390612       0.0  1734.12939  3374.52239  8211.593627      0.0   \n",
       "4          0.000000       0.0     0.00000     0.00000  8211.593627      0.0   \n",
       "5      27280.781223       0.0     0.00000     0.00000     0.000000      0.0   \n",
       "\n",
       "         s006  e02300  expanded_income  XTOT  ...  housing_ben        e02400  \\\n",
       "RECID                                         ...                              \n",
       "1      250.14     0.0     54039.301075   2.0  ...      0.00000      0.000000   \n",
       "2      211.63     0.0     18789.917880   3.0  ...      0.00000      0.000000   \n",
       "3      323.50     0.0     52529.495570   1.0  ...   5664.74794  13240.409989   \n",
       "4      186.32     0.0     37956.655257   2.0  ...      0.00000      0.000000   \n",
       "5      343.08     0.0     63986.590233   2.0  ...      0.00000  35596.390999   \n",
       "\n",
       "       aftertax_income    other_ben  market_income          bens  \\\n",
       "RECID                                                              \n",
       "1         43653.332955     0.000000   54039.301075      0.000000   \n",
       "2         21045.358255     0.000000   18789.917880      0.000000   \n",
       "3         52529.495570  6663.701623       0.000000  52529.495570   \n",
       "4         36950.797734  3906.542368   25838.519262  12118.135995   \n",
       "5         63986.590233     0.000000    1109.418010  62877.172223   \n",
       "\n",
       "                tax    s006_m    XTOT_m       tpc_eci  \n",
       "RECID                                                  \n",
       "1      10385.968120  0.000250  0.000500  54039.301075  \n",
       "2      -2255.440376  0.000212  0.000635  18789.917880  \n",
       "3          0.000000  0.000324  0.000324  25012.763391  \n",
       "4       1005.857523  0.000186  0.000373  29745.061630  \n",
       "5          0.000000  0.000343  0.000686  36705.809010  \n",
       "\n",
       "[5 rows x 21 columns]"
      ]
     },
     "execution_count": 5,
     "metadata": {},
     "output_type": "execute_result"
    }
   ],
   "source": [
    "df.head()"
   ]
  }
 ],
 "metadata": {
  "kernelspec": {
   "display_name": "Python 3",
   "language": "python",
   "name": "python3"
  },
  "language_info": {
   "codemirror_mode": {
    "name": "ipython",
    "version": 3
   },
   "file_extension": ".py",
   "mimetype": "text/x-python",
   "name": "python",
   "nbconvert_exporter": "python",
   "pygments_lexer": "ipython3",
   "version": "3.7.7"
  },
  "toc": {
   "base_numbering": 1,
   "nav_menu": {},
   "number_sections": true,
   "sideBar": true,
   "skip_h1_title": false,
   "title_cell": "Table of Contents",
   "title_sidebar": "Contents",
   "toc_cell": false,
   "toc_position": {},
   "toc_section_display": true,
   "toc_window_display": false
  }
 },
 "nbformat": 4,
 "nbformat_minor": 2
}