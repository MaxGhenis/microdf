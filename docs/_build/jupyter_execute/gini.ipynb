{
 "cells": [
  {
   "cell_type": "markdown",
   "metadata": {},
   "source": [
    "# `gini` example"
   ]
  },
  {
   "cell_type": "code",
   "execution_count": 1,
   "metadata": {
    "execution": {
     "iopub.execute_input": "2020-06-23T05:59:37.320683Z",
     "iopub.status.busy": "2020-06-23T05:59:37.304989Z",
     "iopub.status.idle": "2020-06-23T05:59:38.513700Z",
     "shell.execute_reply": "2020-06-23T05:59:38.514369Z"
    }
   },
   "outputs": [],
   "source": [
    "import microdf as mdf"
   ]
  },
  {
   "cell_type": "code",
   "execution_count": 2,
   "metadata": {
    "execution": {
     "iopub.execute_input": "2020-06-23T05:59:38.530096Z",
     "iopub.status.busy": "2020-06-23T05:59:38.529216Z",
     "iopub.status.idle": "2020-06-23T05:59:38.534901Z",
     "shell.execute_reply": "2020-06-23T05:59:38.535473Z"
    }
   },
   "outputs": [],
   "source": [
    "x = [-10, -1, 0, 5, 100]\n",
    "w = [1, 2, 3, 4, 5]"
   ]
  },
  {
   "cell_type": "markdown",
   "metadata": {},
   "source": [
    "## Simple behavior"
   ]
  },
  {
   "cell_type": "code",
   "execution_count": 3,
   "metadata": {
    "execution": {
     "iopub.execute_input": "2020-06-23T05:59:38.543816Z",
     "iopub.status.busy": "2020-06-23T05:59:38.541154Z",
     "iopub.status.idle": "2020-06-23T05:59:38.551061Z",
     "shell.execute_reply": "2020-06-23T05:59:38.548027Z"
    }
   },
   "outputs": [
    {
     "data": {
      "text/plain": [
       "0.9617021276595745"
      ]
     },
     "execution_count": 3,
     "metadata": {},
     "output_type": "execute_result"
    }
   ],
   "source": [
    "mdf.gini(x)"
   ]
  },
  {
   "cell_type": "markdown",
   "metadata": {},
   "source": [
    "## Dealing with negatives"
   ]
  },
  {
   "cell_type": "markdown",
   "metadata": {},
   "source": [
    "This will be equivalent to `mdf.gini([0, 0, 0, 5, 100])`."
   ]
  },
  {
   "cell_type": "code",
   "execution_count": 4,
   "metadata": {
    "execution": {
     "iopub.execute_input": "2020-06-23T05:59:38.557769Z",
     "iopub.status.busy": "2020-06-23T05:59:38.556752Z",
     "iopub.status.idle": "2020-06-23T05:59:38.561458Z",
     "shell.execute_reply": "2020-06-23T05:59:38.560624Z"
    }
   },
   "outputs": [
    {
     "data": {
      "text/plain": [
       "0.780952380952381"
      ]
     },
     "execution_count": 4,
     "metadata": {},
     "output_type": "execute_result"
    }
   ],
   "source": [
    "mdf.gini(x, negatives='zero')"
   ]
  },
  {
   "cell_type": "code",
   "execution_count": 5,
   "metadata": {
    "execution": {
     "iopub.execute_input": "2020-06-23T05:59:38.571884Z",
     "iopub.status.busy": "2020-06-23T05:59:38.570016Z",
     "iopub.status.idle": "2020-06-23T05:59:38.575677Z",
     "shell.execute_reply": "2020-06-23T05:59:38.574975Z"
    }
   },
   "outputs": [
    {
     "data": {
      "text/plain": [
       "0.780952380952381"
      ]
     },
     "execution_count": 5,
     "metadata": {},
     "output_type": "execute_result"
    }
   ],
   "source": [
    "mdf.gini([0, 0, 0, 5, 100])"
   ]
  },
  {
   "cell_type": "markdown",
   "metadata": {},
   "source": [
    "This will be equivalent to `mdf.gini([0, 9, 10, 15, 110])`."
   ]
  },
  {
   "cell_type": "code",
   "execution_count": 6,
   "metadata": {
    "execution": {
     "iopub.execute_input": "2020-06-23T05:59:38.583955Z",
     "iopub.status.busy": "2020-06-23T05:59:38.583069Z",
     "iopub.status.idle": "2020-06-23T05:59:38.589613Z",
     "shell.execute_reply": "2020-06-23T05:59:38.588856Z"
    }
   },
   "outputs": [
    {
     "data": {
      "text/plain": [
       "0.6277777777777778"
      ]
     },
     "execution_count": 6,
     "metadata": {},
     "output_type": "execute_result"
    }
   ],
   "source": [
    "mdf.gini(x, negatives='shift')"
   ]
  },
  {
   "cell_type": "code",
   "execution_count": 7,
   "metadata": {
    "execution": {
     "iopub.execute_input": "2020-06-23T05:59:38.599851Z",
     "iopub.status.busy": "2020-06-23T05:59:38.598804Z",
     "iopub.status.idle": "2020-06-23T05:59:38.602901Z",
     "shell.execute_reply": "2020-06-23T05:59:38.602236Z"
    }
   },
   "outputs": [
    {
     "data": {
      "text/plain": [
       "0.6277777777777778"
      ]
     },
     "execution_count": 7,
     "metadata": {},
     "output_type": "execute_result"
    }
   ],
   "source": [
    "mdf.gini([0, 9, 10, 15, 110])"
   ]
  },
  {
   "cell_type": "markdown",
   "metadata": {},
   "source": [
    "## Dealing with weights"
   ]
  },
  {
   "cell_type": "code",
   "execution_count": 8,
   "metadata": {
    "execution": {
     "iopub.execute_input": "2020-06-23T05:59:38.609127Z",
     "iopub.status.busy": "2020-06-23T05:59:38.608229Z",
     "iopub.status.idle": "2020-06-23T05:59:38.615906Z",
     "shell.execute_reply": "2020-06-23T05:59:38.614949Z"
    }
   },
   "outputs": [
    {
     "data": {
      "text/plain": [
       "0.6800524934383202"
      ]
     },
     "execution_count": 8,
     "metadata": {},
     "output_type": "execute_result"
    }
   ],
   "source": [
    "mdf.gini(x, w)"
   ]
  },
  {
   "cell_type": "code",
   "execution_count": 9,
   "metadata": {
    "execution": {
     "iopub.execute_input": "2020-06-23T05:59:38.625824Z",
     "iopub.status.busy": "2020-06-23T05:59:38.623907Z",
     "iopub.status.idle": "2020-06-23T05:59:38.628592Z",
     "shell.execute_reply": "2020-06-23T05:59:38.627939Z"
    }
   },
   "outputs": [
    {
     "data": {
      "text/plain": [
       "0.6800524934383202"
      ]
     },
     "execution_count": 9,
     "metadata": {},
     "output_type": "execute_result"
    }
   ],
   "source": [
    "mdf.gini([-10,\n",
    "          -1, -1,\n",
    "          0, 0, 0,\n",
    "          5, 5, 5, 5,\n",
    "          100, 100, 100, 100, 100])"
   ]
  }
 ],
 "metadata": {
  "kernelspec": {
   "display_name": "Python 3",
   "language": "python",
   "name": "python3"
  },
  "language_info": {
   "codemirror_mode": {
    "name": "ipython",
    "version": 3
   },
   "file_extension": ".py",
   "mimetype": "text/x-python",
   "name": "python",
   "nbconvert_exporter": "python",
   "pygments_lexer": "ipython3",
   "version": "3.7.7"
  },
  "toc": {
   "base_numbering": 1,
   "nav_menu": {},
   "number_sections": true,
   "sideBar": true,
   "skip_h1_title": false,
   "title_cell": "Table of Contents",
   "title_sidebar": "Contents",
   "toc_cell": false,
   "toc_position": {},
   "toc_section_display": true,
   "toc_window_display": false
  }
 },
 "nbformat": 4,
 "nbformat_minor": 2
}