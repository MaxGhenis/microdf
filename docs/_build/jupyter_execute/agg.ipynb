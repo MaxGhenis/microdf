{
 "cells": [
  {
   "cell_type": "markdown",
   "metadata": {},
   "source": [
    "# The `agg` function\n",
    "\n",
    "Use `agg` to see the effect of a $10,000 UBI by marital status.\n",
    "\n",
    "## Setup"
   ]
  },
  {
   "cell_type": "code",
   "execution_count": 1,
   "metadata": {
    "execution": {
     "iopub.execute_input": "2020-06-23T05:40:30.569539Z",
     "iopub.status.busy": "2020-06-23T05:40:30.568585Z",
     "iopub.status.idle": "2020-06-23T05:40:32.210119Z",
     "shell.execute_reply": "2020-06-23T05:40:32.209667Z"
    }
   },
   "outputs": [],
   "source": [
    "import numpy as np\n",
    "import pandas as pd\n",
    "\n",
    "import taxcalc as tc\n",
    "import microdf as mdf"
   ]
  },
  {
   "cell_type": "code",
   "execution_count": 2,
   "metadata": {
    "execution": {
     "iopub.execute_input": "2020-06-23T05:40:32.215457Z",
     "iopub.status.busy": "2020-06-23T05:40:32.214957Z",
     "iopub.status.idle": "2020-06-23T05:40:32.218353Z",
     "shell.execute_reply": "2020-06-23T05:40:32.218740Z"
    }
   },
   "outputs": [
    {
     "data": {
      "text/plain": [
       "'2.9.0'"
      ]
     },
     "execution_count": 2,
     "metadata": {},
     "output_type": "execute_result"
    }
   ],
   "source": [
    "tc.__version__"
   ]
  },
  {
   "cell_type": "markdown",
   "metadata": {},
   "source": [
    "## Load data\n",
    "\n",
    "Start with a standard `DataFrame`, then add a UBI manually in a reform copy."
   ]
  },
  {
   "cell_type": "code",
   "execution_count": 3,
   "metadata": {
    "execution": {
     "iopub.execute_input": "2020-06-23T05:40:32.222684Z",
     "iopub.status.busy": "2020-06-23T05:40:32.222055Z",
     "iopub.status.idle": "2020-06-23T05:41:01.449320Z",
     "shell.execute_reply": "2020-06-23T05:41:01.447995Z"
    }
   },
   "outputs": [],
   "source": [
    "base = mdf.calc_df(group_vars=['expanded_income', 'MARS', 'XTOT'],\n",
    "                   metric_vars='aftertax_income')"
   ]
  },
  {
   "cell_type": "code",
   "execution_count": 4,
   "metadata": {
    "execution": {
     "iopub.execute_input": "2020-06-23T05:41:01.476629Z",
     "iopub.status.busy": "2020-06-23T05:41:01.474943Z",
     "iopub.status.idle": "2020-06-23T05:41:01.531904Z",
     "shell.execute_reply": "2020-06-23T05:41:01.528878Z"
    }
   },
   "outputs": [],
   "source": [
    "reform = base.copy(deep=True)\n",
    "UBI_PP = 10000\n",
    "reform['ubi'] = reform.XTOT * UBI_PP\n",
    "reform['aftertax_income'] = reform.aftertax_income + reform.ubi\n",
    "mdf.add_weighted_metrics(reform, 'aftertax_income')"
   ]
  },
  {
   "cell_type": "markdown",
   "metadata": {},
   "source": [
    "## `agg`\n",
    "\n",
    "### Change in aftertax income by marital status."
   ]
  },
  {
   "cell_type": "code",
   "execution_count": 5,
   "metadata": {
    "execution": {
     "iopub.execute_input": "2020-06-23T05:41:01.560169Z",
     "iopub.status.busy": "2020-06-23T05:41:01.558578Z",
     "iopub.status.idle": "2020-06-23T05:41:01.806681Z",
     "shell.execute_reply": "2020-06-23T05:41:01.808208Z"
    }
   },
   "outputs": [
    {
     "data": {
      "text/html": [
       "<div>\n",
       "<style scoped>\n",
       "    .dataframe tbody tr th:only-of-type {\n",
       "        vertical-align: middle;\n",
       "    }\n",
       "\n",
       "    .dataframe tbody tr th {\n",
       "        vertical-align: top;\n",
       "    }\n",
       "\n",
       "    .dataframe thead th {\n",
       "        text-align: right;\n",
       "    }\n",
       "</style>\n",
       "<table border=\"1\" class=\"dataframe\">\n",
       "  <thead>\n",
       "    <tr style=\"text-align: right;\">\n",
       "      <th></th>\n",
       "      <th>aftertax_income_m_base</th>\n",
       "      <th>aftertax_income_m_reform</th>\n",
       "      <th>aftertax_income_pctchg</th>\n",
       "    </tr>\n",
       "    <tr>\n",
       "      <th>MARS</th>\n",
       "      <th></th>\n",
       "      <th></th>\n",
       "      <th></th>\n",
       "    </tr>\n",
       "  </thead>\n",
       "  <tbody>\n",
       "    <tr>\n",
       "      <th>1.0</th>\n",
       "      <td>3.932706e+06</td>\n",
       "      <td>4.955448e+06</td>\n",
       "      <td>0.260061</td>\n",
       "    </tr>\n",
       "    <tr>\n",
       "      <th>2.0</th>\n",
       "      <td>7.720992e+06</td>\n",
       "      <td>9.606785e+06</td>\n",
       "      <td>0.244242</td>\n",
       "    </tr>\n",
       "    <tr>\n",
       "      <th>4.0</th>\n",
       "      <td>8.561148e+05</td>\n",
       "      <td>1.278792e+06</td>\n",
       "      <td>0.493716</td>\n",
       "    </tr>\n",
       "  </tbody>\n",
       "</table>\n",
       "</div>"
      ],
      "text/plain": [
       "      aftertax_income_m_base  aftertax_income_m_reform  aftertax_income_pctchg\n",
       "MARS                                                                          \n",
       "1.0             3.932706e+06              4.955448e+06                0.260061\n",
       "2.0             7.720992e+06              9.606785e+06                0.244242\n",
       "4.0             8.561148e+05              1.278792e+06                0.493716"
      ]
     },
     "execution_count": 5,
     "metadata": {},
     "output_type": "execute_result"
    }
   ],
   "source": [
    "mdf.agg(base, reform, 'MARS', 'aftertax_income')"
   ]
  },
  {
   "cell_type": "markdown",
   "metadata": {},
   "source": [
    "### Also sum baseline `expanded_income`"
   ]
  },
  {
   "cell_type": "code",
   "execution_count": 6,
   "metadata": {
    "execution": {
     "iopub.execute_input": "2020-06-23T05:41:01.826426Z",
     "iopub.status.busy": "2020-06-23T05:41:01.820115Z",
     "iopub.status.idle": "2020-06-23T05:41:01.993596Z",
     "shell.execute_reply": "2020-06-23T05:41:01.991709Z"
    }
   },
   "outputs": [
    {
     "data": {
      "text/html": [
       "<div>\n",
       "<style scoped>\n",
       "    .dataframe tbody tr th:only-of-type {\n",
       "        vertical-align: middle;\n",
       "    }\n",
       "\n",
       "    .dataframe tbody tr th {\n",
       "        vertical-align: top;\n",
       "    }\n",
       "\n",
       "    .dataframe thead th {\n",
       "        text-align: right;\n",
       "    }\n",
       "</style>\n",
       "<table border=\"1\" class=\"dataframe\">\n",
       "  <thead>\n",
       "    <tr style=\"text-align: right;\">\n",
       "      <th></th>\n",
       "      <th>aftertax_income_m_base</th>\n",
       "      <th>expanded_income</th>\n",
       "      <th>aftertax_income_m_reform</th>\n",
       "      <th>aftertax_income_pctchg</th>\n",
       "    </tr>\n",
       "    <tr>\n",
       "      <th>MARS</th>\n",
       "      <th></th>\n",
       "      <th></th>\n",
       "      <th></th>\n",
       "      <th></th>\n",
       "    </tr>\n",
       "  </thead>\n",
       "  <tbody>\n",
       "    <tr>\n",
       "      <th>1.0</th>\n",
       "      <td>3.932706e+06</td>\n",
       "      <td>1.584097e+10</td>\n",
       "      <td>4.955448e+06</td>\n",
       "      <td>0.260061</td>\n",
       "    </tr>\n",
       "    <tr>\n",
       "      <th>2.0</th>\n",
       "      <td>7.720992e+06</td>\n",
       "      <td>6.191435e+10</td>\n",
       "      <td>9.606785e+06</td>\n",
       "      <td>0.244242</td>\n",
       "    </tr>\n",
       "    <tr>\n",
       "      <th>4.0</th>\n",
       "      <td>8.561148e+05</td>\n",
       "      <td>2.203621e+09</td>\n",
       "      <td>1.278792e+06</td>\n",
       "      <td>0.493716</td>\n",
       "    </tr>\n",
       "  </tbody>\n",
       "</table>\n",
       "</div>"
      ],
      "text/plain": [
       "      aftertax_income_m_base  expanded_income  aftertax_income_m_reform  \\\n",
       "MARS                                                                      \n",
       "1.0             3.932706e+06     1.584097e+10              4.955448e+06   \n",
       "2.0             7.720992e+06     6.191435e+10              9.606785e+06   \n",
       "4.0             8.561148e+05     2.203621e+09              1.278792e+06   \n",
       "\n",
       "      aftertax_income_pctchg  \n",
       "MARS                          \n",
       "1.0                 0.260061  \n",
       "2.0                 0.244242  \n",
       "4.0                 0.493716  "
      ]
     },
     "execution_count": 6,
     "metadata": {},
     "output_type": "execute_result"
    }
   ],
   "source": [
    "mdf.agg(base, reform, 'MARS', 'aftertax_income', 'expanded_income')"
   ]
  },
  {
   "cell_type": "markdown",
   "metadata": {},
   "source": [
    "### Also sum UBI amount"
   ]
  },
  {
   "cell_type": "code",
   "execution_count": 7,
   "metadata": {
    "execution": {
     "iopub.execute_input": "2020-06-23T05:41:02.055861Z",
     "iopub.status.busy": "2020-06-23T05:41:02.041697Z",
     "iopub.status.idle": "2020-06-23T05:41:02.252485Z",
     "shell.execute_reply": "2020-06-23T05:41:02.254154Z"
    }
   },
   "outputs": [
    {
     "data": {
      "text/html": [
       "<div>\n",
       "<style scoped>\n",
       "    .dataframe tbody tr th:only-of-type {\n",
       "        vertical-align: middle;\n",
       "    }\n",
       "\n",
       "    .dataframe tbody tr th {\n",
       "        vertical-align: top;\n",
       "    }\n",
       "\n",
       "    .dataframe thead th {\n",
       "        text-align: right;\n",
       "    }\n",
       "</style>\n",
       "<table border=\"1\" class=\"dataframe\">\n",
       "  <thead>\n",
       "    <tr style=\"text-align: right;\">\n",
       "      <th></th>\n",
       "      <th>aftertax_income_m_base</th>\n",
       "      <th>ubi_m</th>\n",
       "      <th>aftertax_income_m_reform</th>\n",
       "      <th>aftertax_income_pctchg</th>\n",
       "    </tr>\n",
       "    <tr>\n",
       "      <th>MARS</th>\n",
       "      <th></th>\n",
       "      <th></th>\n",
       "      <th></th>\n",
       "      <th></th>\n",
       "    </tr>\n",
       "  </thead>\n",
       "  <tbody>\n",
       "    <tr>\n",
       "      <th>1.0</th>\n",
       "      <td>3.932706e+06</td>\n",
       "      <td>1.022742e+06</td>\n",
       "      <td>4.955448e+06</td>\n",
       "      <td>0.260061</td>\n",
       "    </tr>\n",
       "    <tr>\n",
       "      <th>2.0</th>\n",
       "      <td>7.720992e+06</td>\n",
       "      <td>1.885793e+06</td>\n",
       "      <td>9.606785e+06</td>\n",
       "      <td>0.244242</td>\n",
       "    </tr>\n",
       "    <tr>\n",
       "      <th>4.0</th>\n",
       "      <td>8.561148e+05</td>\n",
       "      <td>4.226775e+05</td>\n",
       "      <td>1.278792e+06</td>\n",
       "      <td>0.493716</td>\n",
       "    </tr>\n",
       "  </tbody>\n",
       "</table>\n",
       "</div>"
      ],
      "text/plain": [
       "      aftertax_income_m_base         ubi_m  aftertax_income_m_reform  \\\n",
       "MARS                                                                   \n",
       "1.0             3.932706e+06  1.022742e+06              4.955448e+06   \n",
       "2.0             7.720992e+06  1.885793e+06              9.606785e+06   \n",
       "4.0             8.561148e+05  4.226775e+05              1.278792e+06   \n",
       "\n",
       "      aftertax_income_pctchg  \n",
       "MARS                          \n",
       "1.0                 0.260061  \n",
       "2.0                 0.244242  \n",
       "4.0                 0.493716  "
      ]
     },
     "execution_count": 7,
     "metadata": {},
     "output_type": "execute_result"
    }
   ],
   "source": [
    "mdf.add_weighted_metrics(reform, 'ubi')  # Creates ubi_m = ubi * s006 / 1e6.\n",
    "\n",
    "mdf.agg(base, reform, 'MARS', 'aftertax_income', reform_metrics='ubi_m')"
   ]
  }
 ],
 "metadata": {
  "kernelspec": {
   "display_name": "Python 3",
   "language": "python",
   "name": "python3"
  },
  "language_info": {
   "codemirror_mode": {
    "name": "ipython",
    "version": 3
   },
   "file_extension": ".py",
   "mimetype": "text/x-python",
   "name": "python",
   "nbconvert_exporter": "python",
   "pygments_lexer": "ipython3",
   "version": "3.7.7"
  },
  "toc": {
   "base_numbering": 1,
   "nav_menu": {},
   "number_sections": true,
   "sideBar": true,
   "skip_h1_title": false,
   "title_cell": "Table of Contents",
   "title_sidebar": "Contents",
   "toc_cell": false,
   "toc_position": {},
   "toc_section_display": true,
   "toc_window_display": false
  }
 },
 "nbformat": 4,
 "nbformat_minor": 2
}