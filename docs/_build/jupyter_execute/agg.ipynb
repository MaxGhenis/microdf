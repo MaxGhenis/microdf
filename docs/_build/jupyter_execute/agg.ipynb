{
 "cells": [
  {
   "cell_type": "markdown",
   "metadata": {},
   "source": [
    "# The `agg` function\n",
    "\n",
    "Use `agg` to see the effect of a $10,000 UBI by marital status.\n",
    "\n",
    "## Setup"
   ]
  },
  {
   "cell_type": "code",
   "execution_count": 1,
   "metadata": {
    "execution": {
     "iopub.execute_input": "2020-06-23T05:49:33.701995Z",
     "iopub.status.busy": "2020-06-23T05:49:33.701257Z",
     "iopub.status.idle": "2020-06-23T05:49:35.320079Z",
     "shell.execute_reply": "2020-06-23T05:49:35.319651Z"
    }
   },
   "outputs": [],
   "source": [
    "import numpy as np\n",
    "import pandas as pd\n",
    "\n",
    "import taxcalc as tc\n",
    "import microdf as mdf"
   ]
  },
  {
   "cell_type": "code",
   "execution_count": 2,
   "metadata": {
    "execution": {
     "iopub.execute_input": "2020-06-23T05:49:35.324825Z",
     "iopub.status.busy": "2020-06-23T05:49:35.324359Z",
     "iopub.status.idle": "2020-06-23T05:49:35.329912Z",
     "shell.execute_reply": "2020-06-23T05:49:35.330275Z"
    }
   },
   "outputs": [
    {
     "data": {
      "text/plain": [
       "'2.9.0'"
      ]
     },
     "execution_count": 2,
     "metadata": {},
     "output_type": "execute_result"
    }
   ],
   "source": [
    "tc.__version__"
   ]
  },
  {
   "cell_type": "markdown",
   "metadata": {},
   "source": [
    "## Load data\n",
    "\n",
    "Start with a standard `DataFrame`, then add a UBI manually in a reform copy."
   ]
  },
  {
   "cell_type": "code",
   "execution_count": 3,
   "metadata": {
    "execution": {
     "iopub.execute_input": "2020-06-23T05:49:35.335176Z",
     "iopub.status.busy": "2020-06-23T05:49:35.333571Z",
     "iopub.status.idle": "2020-06-23T05:50:10.619031Z",
     "shell.execute_reply": "2020-06-23T05:50:10.618380Z"
    }
   },
   "outputs": [],
   "source": [
    "base = mdf.calc_df(group_vars=['expanded_income', 'MARS', 'XTOT'],\n",
    "                   metric_vars='aftertax_income')"
   ]
  },
  {
   "cell_type": "code",
   "execution_count": 4,
   "metadata": {
    "execution": {
     "iopub.execute_input": "2020-06-23T05:50:10.626410Z",
     "iopub.status.busy": "2020-06-23T05:50:10.625543Z",
     "iopub.status.idle": "2020-06-23T05:50:10.651594Z",
     "shell.execute_reply": "2020-06-23T05:50:10.650903Z"
    }
   },
   "outputs": [],
   "source": [
    "reform = base.copy(deep=True)\n",
    "UBI_PP = 10000\n",
    "reform['ubi'] = reform.XTOT * UBI_PP\n",
    "reform['aftertax_income'] = reform.aftertax_income + reform.ubi\n",
    "mdf.add_weighted_metrics(reform, 'aftertax_income')"
   ]
  },
  {
   "cell_type": "markdown",
   "metadata": {},
   "source": [
    "## `agg`\n",
    "\n",
    "### Change in aftertax income by marital status."
   ]
  },
  {
   "cell_type": "code",
   "execution_count": 5,
   "metadata": {
    "execution": {
     "iopub.execute_input": "2020-06-23T05:50:10.661128Z",
     "iopub.status.busy": "2020-06-23T05:50:10.660328Z",
     "iopub.status.idle": "2020-06-23T05:50:10.762285Z",
     "shell.execute_reply": "2020-06-23T05:50:10.762856Z"
    }
   },
   "outputs": [
    {
     "data": {
      "text/html": [
       "<div>\n",
       "<style scoped>\n",
       "    .dataframe tbody tr th:only-of-type {\n",
       "        vertical-align: middle;\n",
       "    }\n",
       "\n",
       "    .dataframe tbody tr th {\n",
       "        vertical-align: top;\n",
       "    }\n",
       "\n",
       "    .dataframe thead th {\n",
       "        text-align: right;\n",
       "    }\n",
       "</style>\n",
       "<table border=\"1\" class=\"dataframe\">\n",
       "  <thead>\n",
       "    <tr style=\"text-align: right;\">\n",
       "      <th></th>\n",
       "      <th>aftertax_income_m_base</th>\n",
       "      <th>aftertax_income_m_reform</th>\n",
       "      <th>aftertax_income_pctchg</th>\n",
       "    </tr>\n",
       "    <tr>\n",
       "      <th>MARS</th>\n",
       "      <th></th>\n",
       "      <th></th>\n",
       "      <th></th>\n",
       "    </tr>\n",
       "  </thead>\n",
       "  <tbody>\n",
       "    <tr>\n",
       "      <th>1.0</th>\n",
       "      <td>3.932706e+06</td>\n",
       "      <td>4.955448e+06</td>\n",
       "      <td>0.260061</td>\n",
       "    </tr>\n",
       "    <tr>\n",
       "      <th>2.0</th>\n",
       "      <td>7.720992e+06</td>\n",
       "      <td>9.606785e+06</td>\n",
       "      <td>0.244242</td>\n",
       "    </tr>\n",
       "    <tr>\n",
       "      <th>4.0</th>\n",
       "      <td>8.561148e+05</td>\n",
       "      <td>1.278792e+06</td>\n",
       "      <td>0.493716</td>\n",
       "    </tr>\n",
       "  </tbody>\n",
       "</table>\n",
       "</div>"
      ],
      "text/plain": [
       "      aftertax_income_m_base  aftertax_income_m_reform  aftertax_income_pctchg\n",
       "MARS                                                                          \n",
       "1.0             3.932706e+06              4.955448e+06                0.260061\n",
       "2.0             7.720992e+06              9.606785e+06                0.244242\n",
       "4.0             8.561148e+05              1.278792e+06                0.493716"
      ]
     },
     "execution_count": 5,
     "metadata": {},
     "output_type": "execute_result"
    }
   ],
   "source": [
    "mdf.agg(base, reform, 'MARS', 'aftertax_income')"
   ]
  },
  {
   "cell_type": "markdown",
   "metadata": {},
   "source": [
    "### Also sum baseline `expanded_income`"
   ]
  },
  {
   "cell_type": "code",
   "execution_count": 6,
   "metadata": {
    "execution": {
     "iopub.execute_input": "2020-06-23T05:50:10.776862Z",
     "iopub.status.busy": "2020-06-23T05:50:10.776025Z",
     "iopub.status.idle": "2020-06-23T05:50:10.819950Z",
     "shell.execute_reply": "2020-06-23T05:50:10.819076Z"
    }
   },
   "outputs": [
    {
     "data": {
      "text/html": [
       "<div>\n",
       "<style scoped>\n",
       "    .dataframe tbody tr th:only-of-type {\n",
       "        vertical-align: middle;\n",
       "    }\n",
       "\n",
       "    .dataframe tbody tr th {\n",
       "        vertical-align: top;\n",
       "    }\n",
       "\n",
       "    .dataframe thead th {\n",
       "        text-align: right;\n",
       "    }\n",
       "</style>\n",
       "<table border=\"1\" class=\"dataframe\">\n",
       "  <thead>\n",
       "    <tr style=\"text-align: right;\">\n",
       "      <th></th>\n",
       "      <th>expanded_income</th>\n",
       "      <th>aftertax_income_m_base</th>\n",
       "      <th>aftertax_income_m_reform</th>\n",
       "      <th>aftertax_income_pctchg</th>\n",
       "    </tr>\n",
       "    <tr>\n",
       "      <th>MARS</th>\n",
       "      <th></th>\n",
       "      <th></th>\n",
       "      <th></th>\n",
       "      <th></th>\n",
       "    </tr>\n",
       "  </thead>\n",
       "  <tbody>\n",
       "    <tr>\n",
       "      <th>1.0</th>\n",
       "      <td>1.584097e+10</td>\n",
       "      <td>3.932706e+06</td>\n",
       "      <td>4.955448e+06</td>\n",
       "      <td>0.260061</td>\n",
       "    </tr>\n",
       "    <tr>\n",
       "      <th>2.0</th>\n",
       "      <td>6.191435e+10</td>\n",
       "      <td>7.720992e+06</td>\n",
       "      <td>9.606785e+06</td>\n",
       "      <td>0.244242</td>\n",
       "    </tr>\n",
       "    <tr>\n",
       "      <th>4.0</th>\n",
       "      <td>2.203621e+09</td>\n",
       "      <td>8.561148e+05</td>\n",
       "      <td>1.278792e+06</td>\n",
       "      <td>0.493716</td>\n",
       "    </tr>\n",
       "  </tbody>\n",
       "</table>\n",
       "</div>"
      ],
      "text/plain": [
       "      expanded_income  aftertax_income_m_base  aftertax_income_m_reform  \\\n",
       "MARS                                                                      \n",
       "1.0      1.584097e+10            3.932706e+06              4.955448e+06   \n",
       "2.0      6.191435e+10            7.720992e+06              9.606785e+06   \n",
       "4.0      2.203621e+09            8.561148e+05              1.278792e+06   \n",
       "\n",
       "      aftertax_income_pctchg  \n",
       "MARS                          \n",
       "1.0                 0.260061  \n",
       "2.0                 0.244242  \n",
       "4.0                 0.493716  "
      ]
     },
     "execution_count": 6,
     "metadata": {},
     "output_type": "execute_result"
    }
   ],
   "source": [
    "mdf.agg(base, reform, 'MARS', 'aftertax_income', 'expanded_income')"
   ]
  },
  {
   "cell_type": "markdown",
   "metadata": {},
   "source": [
    "### Also sum UBI amount"
   ]
  },
  {
   "cell_type": "code",
   "execution_count": 7,
   "metadata": {
    "execution": {
     "iopub.execute_input": "2020-06-23T05:50:10.826697Z",
     "iopub.status.busy": "2020-06-23T05:50:10.825784Z",
     "iopub.status.idle": "2020-06-23T05:50:10.900922Z",
     "shell.execute_reply": "2020-06-23T05:50:10.901474Z"
    }
   },
   "outputs": [
    {
     "data": {
      "text/html": [
       "<div>\n",
       "<style scoped>\n",
       "    .dataframe tbody tr th:only-of-type {\n",
       "        vertical-align: middle;\n",
       "    }\n",
       "\n",
       "    .dataframe tbody tr th {\n",
       "        vertical-align: top;\n",
       "    }\n",
       "\n",
       "    .dataframe thead th {\n",
       "        text-align: right;\n",
       "    }\n",
       "</style>\n",
       "<table border=\"1\" class=\"dataframe\">\n",
       "  <thead>\n",
       "    <tr style=\"text-align: right;\">\n",
       "      <th></th>\n",
       "      <th>aftertax_income_m_base</th>\n",
       "      <th>ubi_m</th>\n",
       "      <th>aftertax_income_m_reform</th>\n",
       "      <th>aftertax_income_pctchg</th>\n",
       "    </tr>\n",
       "    <tr>\n",
       "      <th>MARS</th>\n",
       "      <th></th>\n",
       "      <th></th>\n",
       "      <th></th>\n",
       "      <th></th>\n",
       "    </tr>\n",
       "  </thead>\n",
       "  <tbody>\n",
       "    <tr>\n",
       "      <th>1.0</th>\n",
       "      <td>3.932706e+06</td>\n",
       "      <td>1.022742e+06</td>\n",
       "      <td>4.955448e+06</td>\n",
       "      <td>0.260061</td>\n",
       "    </tr>\n",
       "    <tr>\n",
       "      <th>2.0</th>\n",
       "      <td>7.720992e+06</td>\n",
       "      <td>1.885793e+06</td>\n",
       "      <td>9.606785e+06</td>\n",
       "      <td>0.244242</td>\n",
       "    </tr>\n",
       "    <tr>\n",
       "      <th>4.0</th>\n",
       "      <td>8.561148e+05</td>\n",
       "      <td>4.226775e+05</td>\n",
       "      <td>1.278792e+06</td>\n",
       "      <td>0.493716</td>\n",
       "    </tr>\n",
       "  </tbody>\n",
       "</table>\n",
       "</div>"
      ],
      "text/plain": [
       "      aftertax_income_m_base         ubi_m  aftertax_income_m_reform  \\\n",
       "MARS                                                                   \n",
       "1.0             3.932706e+06  1.022742e+06              4.955448e+06   \n",
       "2.0             7.720992e+06  1.885793e+06              9.606785e+06   \n",
       "4.0             8.561148e+05  4.226775e+05              1.278792e+06   \n",
       "\n",
       "      aftertax_income_pctchg  \n",
       "MARS                          \n",
       "1.0                 0.260061  \n",
       "2.0                 0.244242  \n",
       "4.0                 0.493716  "
      ]
     },
     "execution_count": 7,
     "metadata": {},
     "output_type": "execute_result"
    }
   ],
   "source": [
    "mdf.add_weighted_metrics(reform, 'ubi')  # Creates ubi_m = ubi * s006 / 1e6.\n",
    "\n",
    "mdf.agg(base, reform, 'MARS', 'aftertax_income', reform_metrics='ubi_m')"
   ]
  }
 ],
 "metadata": {
  "kernelspec": {
   "display_name": "Python 3",
   "language": "python",
   "name": "python3"
  },
  "language_info": {
   "codemirror_mode": {
    "name": "ipython",
    "version": 3
   },
   "file_extension": ".py",
   "mimetype": "text/x-python",
   "name": "python",
   "nbconvert_exporter": "python",
   "pygments_lexer": "ipython3",
   "version": "3.7.7"
  },
  "toc": {
   "base_numbering": 1,
   "nav_menu": {},
   "number_sections": true,
   "sideBar": true,
   "skip_h1_title": false,
   "title_cell": "Table of Contents",
   "title_sidebar": "Contents",
   "toc_cell": false,
   "toc_position": {},
   "toc_section_display": true,
   "toc_window_display": false
  }
 },
 "nbformat": 4,
 "nbformat_minor": 2
}